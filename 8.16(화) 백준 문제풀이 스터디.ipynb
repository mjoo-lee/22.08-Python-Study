{
 "cells": [
  {
   "cell_type": "markdown",
   "id": "572e596f",
   "metadata": {},
   "source": [
    "# 혼자 풀기"
   ]
  },
  {
   "cell_type": "code",
   "execution_count": 23,
   "id": "bb97f180",
   "metadata": {
    "scrolled": true
   },
   "outputs": [
    {
     "name": "stdout",
     "output_type": "stream",
     "text": [
      "3\n",
      "6\n"
     ]
    }
   ],
   "source": [
    "# def facto(n): \n",
    "#     if n != 0:\n",
    "#         return n * facto(n-1)\n",
    "#     else :\n",
    "#         return 1\n",
    "        \n",
    "# print(facto(int(input())))"
   ]
  },
  {
   "cell_type": "code",
   "execution_count": 9,
   "id": "101d886c",
   "metadata": {},
   "outputs": [
    {
     "name": "stdout",
     "output_type": "stream",
     "text": [
      "10\n",
      "3628800\n"
     ]
    }
   ],
   "source": [
    "# def facto(n):\n",
    "#     if n != 0:\n",
    "#         return n * facto(n-1)\n",
    "#     else:\n",
    "#         return 1\n",
    "\n",
    "# print(facto(int(input())))"
   ]
  },
  {
   "cell_type": "code",
   "execution_count": null,
   "id": "d6519435",
   "metadata": {},
   "outputs": [],
   "source": []
  },
  {
   "cell_type": "markdown",
   "id": "b0aad4e5",
   "metadata": {},
   "source": [
    "# 10단계 [브루트 포스]\n",
    "## 1번(블랙잭)"
   ]
  },
  {
   "cell_type": "markdown",
   "id": "13af75f2",
   "metadata": {},
   "source": [
    "카지노에서 제일 인기 있는 게임 블랙잭의 규칙은 상당히 쉽다. **카드의 합이 21을 넘지 않는 한도 내에서, 카드의 합을 최대한 크게 만드는 게임**이다. 블랙잭은 카지노마다 다양한 규정이 있다.\n",
    "\n",
    "한국 최고의 블랙잭 고수 김정인은 새로운 블랙잭 규칙을 만들어 상근, 창영이와 게임하려고 한다.\n",
    "\n",
    "김정인 버전의 블랙잭에서 각 카드에는 양의 정수가 쓰여 있다. 그 다음, 딜러는 N장의 카드를 모두 숫자가 보이도록 바닥에 놓는다. 그런 후에 딜러는 숫자 M을 크게 외친다.\n",
    "\n",
    "이제 플레이어는 제한된 시간 안에 **N장의 카드 중에서 3장의 카드를 골라**야 한다. 블랙잭 변형 게임이기 때문에, 플레이어가 고른 **카드의 합은 M을 넘지 않으면서 M과 최대한 가깝게 만들어야 한다.**\n",
    "\n",
    "N장의 카드에 써져 있는 숫자가 주어졌을 때, M을 넘지 않으면서 M에 최대한 가까운 카드 3장의 합을 구해 출력하시오."
   ]
  },
  {
   "cell_type": "code",
   "execution_count": 50,
   "id": "1acf49c1",
   "metadata": {
    "scrolled": true
   },
   "outputs": [],
   "source": [
    "# 문제\n",
    "# 카드 합 < 21, Max(카드 합)\n",
    "# N장의 카드 중 3개 뽑아 합이 M 넘지 않으면서 M과 최대한 가깝게"
   ]
  },
  {
   "cell_type": "code",
   "execution_count": 444,
   "id": "14eeb0e0",
   "metadata": {
    "scrolled": true
   },
   "outputs": [
    {
     "name": "stdout",
     "output_type": "stream",
     "text": [
      "5 \n",
      "21\n",
      "5 6 7 8 9\n"
     ]
    }
   ],
   "source": [
    "n,m = map(int,input().split())\n",
    "card_list = list(map(int,input().split()))"
   ]
  },
  {
   "cell_type": "code",
   "execution_count": 445,
   "id": "b8b58fcd",
   "metadata": {
    "scrolled": true
   },
   "outputs": [
    {
     "data": {
      "text/plain": [
       "[5, 6, 7, 8, 9]"
      ]
     },
     "execution_count": 445,
     "metadata": {},
     "output_type": "execute_result"
    }
   ],
   "source": [
    "card_list"
   ]
  },
  {
   "cell_type": "code",
   "execution_count": 446,
   "id": "9ebb5e33",
   "metadata": {},
   "outputs": [
    {
     "name": "stdout",
     "output_type": "stream",
     "text": [
      "21\n"
     ]
    }
   ],
   "source": [
    "#정답\n",
    "#조합 라이브러리\n",
    "\n",
    "from itertools import combinations\n",
    "\n",
    "ans = [sum(combi) for combi in combinations(card_list,3) if sum(combi)<= m]\n",
    "\n",
    "print(max(ans))"
   ]
  },
  {
   "cell_type": "code",
   "execution_count": 447,
   "id": "75128131",
   "metadata": {},
   "outputs": [
    {
     "data": {
      "text/plain": [
       "[18, 19, 20, 20, 21, 21]"
      ]
     },
     "execution_count": 447,
     "metadata": {},
     "output_type": "execute_result"
    }
   ],
   "source": [
    "ans"
   ]
  },
  {
   "cell_type": "code",
   "execution_count": null,
   "id": "74296823",
   "metadata": {},
   "outputs": [],
   "source": []
  },
  {
   "cell_type": "code",
   "execution_count": null,
   "id": "1b297a8a",
   "metadata": {},
   "outputs": [],
   "source": []
  },
  {
   "cell_type": "code",
   "execution_count": null,
   "id": "6e5217e9",
   "metadata": {},
   "outputs": [],
   "source": []
  },
  {
   "cell_type": "markdown",
   "id": "eb22e561",
   "metadata": {},
   "source": [
    "## 2번(분해합)"
   ]
  },
  {
   "cell_type": "code",
   "execution_count": 80,
   "id": "31398c0f",
   "metadata": {},
   "outputs": [],
   "source": [
    "# 문제\n",
    "# 245 분해합 = 245+2+4+5 = 256\n",
    "# -> 245는 256의 생성자 \n",
    "# 가장 작은 생성자? ??가장 큰??"
   ]
  },
  {
   "cell_type": "code",
   "execution_count": 94,
   "id": "e1a37062",
   "metadata": {
    "scrolled": false
   },
   "outputs": [
    {
     "name": "stdout",
     "output_type": "stream",
     "text": [
      "216\n"
     ]
    }
   ],
   "source": [
    "n = int(input())\n",
    "result = 0"
   ]
  },
  {
   "cell_type": "code",
   "execution_count": 98,
   "id": "190e440b",
   "metadata": {},
   "outputs": [
    {
     "name": "stdout",
     "output_type": "stream",
     "text": [
      "198\n"
     ]
    }
   ],
   "source": [
    "#정답\n",
    "\n",
    "for m in range(1,n+1):\n",
    "    m_sep =  list(map(int,str(m)))  #각 자리수 쪼개기\n",
    "    m_sum = m + sum(m_sep)  #생성자 + 각 자리수 합\n",
    "    \n",
    "    if m_sum == n:   #m_sum(=분해합)이 n과 같아질 때\n",
    "        result = m   #result 업데이트\n",
    "        break\n",
    "\n",
    "print(result)"
   ]
  },
  {
   "cell_type": "code",
   "execution_count": null,
   "id": "45084d1f",
   "metadata": {},
   "outputs": [],
   "source": []
  },
  {
   "cell_type": "code",
   "execution_count": null,
   "id": "30c6dbb5",
   "metadata": {},
   "outputs": [],
   "source": []
  },
  {
   "cell_type": "markdown",
   "id": "d08838ca",
   "metadata": {},
   "source": [
    "## 3번(덩치)"
   ]
  },
  {
   "cell_type": "code",
   "execution_count": null,
   "id": "de3c3070",
   "metadata": {},
   "outputs": [],
   "source": [
    "# x:몸무게 / y:키 => (x,y)로 사람 표현\n",
    "# 자신보다 큰 덩치의 사람이 k명이라면 그 사람의 덩치 등수는 k+1이 된다. "
   ]
  },
  {
   "cell_type": "code",
   "execution_count": 449,
   "id": "687e893f",
   "metadata": {
    "scrolled": false
   },
   "outputs": [
    {
     "name": "stdout",
     "output_type": "stream",
     "text": [
      "5\n",
      "55 185\n",
      "58 183\n",
      "88 186\n",
      "60 175\n",
      "46 155\n"
     ]
    }
   ],
   "source": [
    "#입력\n",
    "N = int(input())\n",
    "students = []\n",
    "\n",
    "for _ in range(N):\n",
    "    weight, height = map(int,input().split())\n",
    "    students.append((weight,height))"
   ]
  },
  {
   "cell_type": "code",
   "execution_count": 144,
   "id": "20f48c9e",
   "metadata": {},
   "outputs": [],
   "source": [
    "### rank = {students[i]:1 for i in range(N)}\n",
    "\n",
    "# for i in range(N):\n",
    "#     for j in range(N):\n",
    "#         if (students[i][0] < students[j][0]) and (students[i][1] < students[j][1]):\n",
    "#             rank[students[i]] += 1\n",
    "#         # i대비 j 몸무게, 키 둘다 큰 경우 i 순위 밀림\n",
    "        \n",
    "#         elif (students[i][0] < students[j][0]) and (students[i][1] > students[j][1]):\n",
    "#             rank[students[i]] += 0\n",
    "#         # i대비 j 몸무게 크지만 키 작을 경우 변동 없음\n",
    "        \n",
    "#         elif (students[i][0] > students[j][0]) and (students[i][1] < students[j][1]):\n",
    "#             rank[students[i]] += 0\n",
    "#         # i대비 j 몸무게 작지만 키 클 경우 변동 없음 \n",
    "        \n",
    "#         elif (students[i][0] > students[j][0]) and (students[i][1] > students[j][1]):\n",
    "#             rank[students[j]] += 1\n",
    "#         # i대비 j 몸무게, 키 작을 경우 j 순위 밀림\n",
    " \n",
    "# print (rank)\n",
    "        \n",
    "        \n",
    "        \n"
   ]
  },
  {
   "cell_type": "code",
   "execution_count": 450,
   "id": "41302925",
   "metadata": {
    "scrolled": true
   },
   "outputs": [
    {
     "data": {
      "text/plain": [
       "[(55, 185), (58, 183), (88, 186), (60, 175), (46, 155)]"
      ]
     },
     "execution_count": 450,
     "metadata": {},
     "output_type": "execute_result"
    }
   ],
   "source": [
    "students"
   ]
  },
  {
   "cell_type": "code",
   "execution_count": 146,
   "id": "6164b587",
   "metadata": {},
   "outputs": [],
   "source": [
    "# #딕셔너리 형태로 만들 수 있을까? \n",
    "# dict = {1:111, 2:222, 3:333}\n",
    "\n",
    "# dict[1]"
   ]
  },
  {
   "cell_type": "code",
   "execution_count": 452,
   "id": "19a89dba",
   "metadata": {},
   "outputs": [
    {
     "name": "stdout",
     "output_type": "stream",
     "text": [
      "2 2 1 2 5 "
     ]
    }
   ],
   "source": [
    "#오답(답은 맞지만 백준에서 틀렸다고 함)\n",
    "\n",
    "rank = {students[i]:1 for i in range(N)}\n",
    "       #딕셔너리 만들어서, 일단 다 1등으로 세팅\n",
    "\n",
    "for i in range(N):    \n",
    "    for j in range(N):\n",
    "        if students[i][0] < students[j][0] and students[i][1] < students[j][1]: \n",
    "            rank[students[i]] += 1\n",
    "            # 키, 몸무게가 나보다 큰 사람 있으면 순위 더해줌 \n",
    "\n",
    "rank_list = list(rank.values())            \n",
    "\n",
    "for k in range(len(rank)):\n",
    "    print(rank_list[k], end = \" \")"
   ]
  },
  {
   "cell_type": "code",
   "execution_count": 453,
   "id": "defa78e1",
   "metadata": {},
   "outputs": [
    {
     "name": "stdout",
     "output_type": "stream",
     "text": [
      "2 2 1 2 5 "
     ]
    }
   ],
   "source": [
    "#정답\n",
    "\n",
    "for i in students:\n",
    "    rank = 1\n",
    "    for j in students:\n",
    "        if i[0] < j[0] and i[1] < j[1]:\n",
    "            rank += 1\n",
    "    \n",
    "    print(rank, end = \" \")"
   ]
  },
  {
   "cell_type": "code",
   "execution_count": null,
   "id": "5ddb31cc",
   "metadata": {},
   "outputs": [],
   "source": []
  },
  {
   "cell_type": "code",
   "execution_count": null,
   "id": "65c886d4",
   "metadata": {},
   "outputs": [],
   "source": []
  },
  {
   "cell_type": "code",
   "execution_count": null,
   "id": "694c75d3",
   "metadata": {},
   "outputs": [],
   "source": []
  },
  {
   "cell_type": "code",
   "execution_count": null,
   "id": "da491b58",
   "metadata": {},
   "outputs": [],
   "source": []
  },
  {
   "cell_type": "markdown",
   "id": "25592eb1",
   "metadata": {},
   "source": [
    "# 11단계 [정렬]"
   ]
  },
  {
   "cell_type": "markdown",
   "id": "1b914694",
   "metadata": {},
   "source": [
    "## 1번(수 정렬하기)"
   ]
  },
  {
   "cell_type": "code",
   "execution_count": null,
   "id": "77eea70e",
   "metadata": {},
   "outputs": [],
   "source": [
    "# 오름차순 정렬 "
   ]
  },
  {
   "cell_type": "code",
   "execution_count": 468,
   "id": "ee2cbd45",
   "metadata": {
    "scrolled": true
   },
   "outputs": [
    {
     "name": "stdout",
     "output_type": "stream",
     "text": [
      "5\n",
      "5\n",
      "3\n",
      "4\n",
      "2\n",
      "1\n"
     ]
    }
   ],
   "source": [
    "#입력\n",
    "N = int(input())\n",
    "\n",
    "num = []\n",
    "for _ in range(N):\n",
    "    num.append(int(input()))\n"
   ]
  },
  {
   "cell_type": "code",
   "execution_count": 469,
   "id": "ac9e39de",
   "metadata": {},
   "outputs": [
    {
     "name": "stdout",
     "output_type": "stream",
     "text": [
      "1\n",
      "2\n",
      "3\n",
      "4\n",
      "5\n"
     ]
    }
   ],
   "source": [
    "#정답\n",
    "\n",
    "num = sorted(num)\n",
    "\n",
    "for i in range(len(num)):\n",
    "    print(num[i])"
   ]
  },
  {
   "cell_type": "code",
   "execution_count": null,
   "id": "288f4954",
   "metadata": {},
   "outputs": [],
   "source": []
  },
  {
   "cell_type": "markdown",
   "id": "ad894d2b",
   "metadata": {},
   "source": [
    "# 4번(커트라인)"
   ]
  },
  {
   "cell_type": "code",
   "execution_count": null,
   "id": "55f2818c",
   "metadata": {},
   "outputs": [],
   "source": [
    "# 문제\n",
    "# N명의 학생 응시, 점수 높은 k명 상 받음, 커트라인은? "
   ]
  },
  {
   "cell_type": "code",
   "execution_count": null,
   "id": "8fe15d13",
   "metadata": {
    "scrolled": true
   },
   "outputs": [],
   "source": [
    "# 정답\n",
    "N, k = map(int,input().split())\n",
    "scores = []\n",
    "\n",
    "scores = list(map(int,input().split()))\n"
   ]
  },
  {
   "cell_type": "code",
   "execution_count": 472,
   "id": "67236a10",
   "metadata": {},
   "outputs": [
    {
     "name": "stdout",
     "output_type": "stream",
     "text": [
      "98\n"
     ]
    }
   ],
   "source": [
    "scores.sort(reverse=True)\n",
    "print(scores[k-1])"
   ]
  },
  {
   "cell_type": "code",
   "execution_count": null,
   "id": "3bcc0f5c",
   "metadata": {},
   "outputs": [],
   "source": []
  },
  {
   "cell_type": "code",
   "execution_count": null,
   "id": "8be67ce2",
   "metadata": {},
   "outputs": [],
   "source": []
  },
  {
   "cell_type": "markdown",
   "id": "18881e51",
   "metadata": {},
   "source": [
    "## 6번(소트인사이드) "
   ]
  },
  {
   "cell_type": "code",
   "execution_count": 240,
   "id": "e4640a17",
   "metadata": {},
   "outputs": [],
   "source": [
    "# 수가 주어지면, 그 수의 각 자리수를 내림차순으로 정렬"
   ]
  },
  {
   "cell_type": "code",
   "execution_count": 477,
   "id": "ebc63438",
   "metadata": {
    "scrolled": true
   },
   "outputs": [
    {
     "name": "stdout",
     "output_type": "stream",
     "text": [
      "999998999\n"
     ]
    }
   ],
   "source": [
    "N = int(input())"
   ]
  },
  {
   "cell_type": "code",
   "execution_count": 478,
   "id": "eb12fc11",
   "metadata": {},
   "outputs": [
    {
     "name": "stdout",
     "output_type": "stream",
     "text": [
      "999999998"
     ]
    }
   ],
   "source": [
    "#정답\n",
    "\n",
    "n = list(map(int,str(N)))\n",
    "\n",
    "# print(n)\n",
    "\n",
    "n.sort(reverse=True)\n",
    "\n",
    "for i in range(len(n)):\n",
    "    print(n[i],end= \"\")"
   ]
  },
  {
   "cell_type": "code",
   "execution_count": null,
   "id": "a6be3b6b",
   "metadata": {},
   "outputs": [],
   "source": []
  },
  {
   "cell_type": "code",
   "execution_count": null,
   "id": "0e6a8d86",
   "metadata": {},
   "outputs": [],
   "source": []
  },
  {
   "cell_type": "markdown",
   "id": "8e6e8ab2",
   "metadata": {},
   "source": [
    "# 12단계 [집합과 맵]"
   ]
  },
  {
   "cell_type": "markdown",
   "id": "5328360b",
   "metadata": {},
   "source": [
    "## 1번(숫자카드)"
   ]
  },
  {
   "cell_type": "markdown",
   "id": "edca8db1",
   "metadata": {},
   "source": [
    "input() 함수 사용 시, 인풋값 많으면 시간 초과 \n",
    "\n",
    "입력 데이터가 많은 문제에는, sys 라이브러리의 readline() 함수를 이용하는게 좋음\n",
    "\n",
    "input : str형식으로 저장 / 다른 형태 전환 원할 시 지정해줘야\n",
    "\n",
    "map: split된 여러 개의 input에 대해 일괄적으로 변환 \n",
    "\n",
    "https://velog.io/@yeseolee/Python-파이썬-입력-정리sys.stdin.readline"
   ]
  },
  {
   "cell_type": "code",
   "execution_count": 480,
   "id": "4adeb8ba",
   "metadata": {},
   "outputs": [],
   "source": [
    "# 숫자 카드는 정수 하나가 적혀져 있는 카드이다. 상근이는 숫자 카드 N개를 가지고 있다. \n",
    "# 정수 M개가 주어졌을 때, 이 수가 적혀있는 숫자 카드를 상근이가 가지고 있는지 아닌지를 구하는 프로그램을 작성하시오."
   ]
  },
  {
   "cell_type": "code",
   "execution_count": 483,
   "id": "52cd79b7",
   "metadata": {
    "scrolled": false
   },
   "outputs": [
    {
     "name": "stdout",
     "output_type": "stream",
     "text": [
      "5\n",
      "8\n"
     ]
    }
   ],
   "source": [
    "import sys\n",
    "\n",
    "N = int(input())\n",
    "\n",
    "N_card = set(map(int,sys.stdin.readline().split()))\n",
    "\n",
    "# print(N_card)\n",
    "\n",
    "M = int(input())\n",
    "\n",
    "M_card = list(map(int,sys.stdin.readline().split()))\n",
    "\n",
    "# print(M_card, end=\" \")        "
   ]
  },
  {
   "cell_type": "code",
   "execution_count": 484,
   "id": "35f3b238",
   "metadata": {
    "scrolled": false
   },
   "outputs": [],
   "source": [
    "#정답\n",
    "\n",
    "for i in range(len(M_card)):\n",
    "    if M_card[i] in N_card:\n",
    "        print(1,end = \" \")\n",
    "    else: \n",
    "        print(0,end = \" \")"
   ]
  },
  {
   "cell_type": "code",
   "execution_count": null,
   "id": "98ad4fa7",
   "metadata": {
    "scrolled": false
   },
   "outputs": [],
   "source": []
  },
  {
   "cell_type": "code",
   "execution_count": 9,
   "id": "a86f6da9",
   "metadata": {},
   "outputs": [
    {
     "data": {
      "text/plain": [
       "range(0, 0)"
      ]
     },
     "execution_count": 9,
     "metadata": {},
     "output_type": "execute_result"
    }
   ],
   "source": [
    "range(len(M_card))"
   ]
  },
  {
   "cell_type": "code",
   "execution_count": 10,
   "id": "77b580f9",
   "metadata": {},
   "outputs": [
    {
     "data": {
      "text/plain": [
       "0"
      ]
     },
     "execution_count": 10,
     "metadata": {},
     "output_type": "execute_result"
    }
   ],
   "source": [
    "len(M_card)"
   ]
  },
  {
   "cell_type": "markdown",
   "id": "9aa8801f",
   "metadata": {},
   "source": [
    "## **2번(문자열 집합)"
   ]
  },
  {
   "cell_type": "code",
   "execution_count": 320,
   "id": "0d20be0e",
   "metadata": {},
   "outputs": [],
   "source": [
    "# 총 N개의 문자열로 이루어진 집합 S가 주어진다.\n",
    "# 입력으로 주어지는 M개의 문자열 중에서 집합 S에 포함되어 있는 것이 총 몇 개인지 구하는 프로그램을 작성하시오."
   ]
  },
  {
   "cell_type": "code",
   "execution_count": null,
   "id": "0295fd6c",
   "metadata": {
    "scrolled": false
   },
   "outputs": [],
   "source": [
    "# 실패 (시간 초과)\n",
    "\n",
    "N, M = map(int,input().split())\n",
    "\n",
    "N_list = []\n",
    "for _ in range(N):\n",
    "    n = str(input())  \n",
    "    N_list.append(n)\n",
    "    \n",
    "M_list = []\n",
    "for _ in range(M):\n",
    "    m = str(input())\n",
    "    M_list.append(m) \n",
    "    \n",
    "    \n",
    "count = 0\n",
    "\n",
    "for i in range(M):\n",
    "    for j in range(N):\n",
    "        if m[i] == n[j]:\n",
    "            count += 1\n",
    "\n",
    "print(count)"
   ]
  },
  {
   "cell_type": "code",
   "execution_count": null,
   "id": "5c0f26bc",
   "metadata": {
    "scrolled": true
   },
   "outputs": [],
   "source": []
  },
  {
   "cell_type": "code",
   "execution_count": null,
   "id": "fa2e6374",
   "metadata": {},
   "outputs": [],
   "source": [
    "# set를 이용해서 풀어야하는 문제"
   ]
  },
  {
   "cell_type": "code",
   "execution_count": 486,
   "id": "a6ab9279",
   "metadata": {},
   "outputs": [
    {
     "name": "stdout",
     "output_type": "stream",
     "text": [
      "5 11\n",
      "baekjoononlinejudge\n",
      "startlink\n",
      "codeplus\n",
      "sundaycoding\n",
      "codingsh\n",
      "baekjoon\n",
      "codeplus\n",
      "codeminus\n",
      "startlink\n",
      "starlink\n",
      "sundaycoding\n",
      "codingsh\n",
      "codinghs\n",
      "sondaycoding\n",
      "startrink\n",
      "icerink\n",
      "4\n"
     ]
    }
   ],
   "source": [
    "#정답\n",
    "\n",
    "N, M = map(int,input().split())\n",
    "\n",
    "s = set([])\n",
    "count = 0\n",
    "\n",
    "for _ in range(N):\n",
    "    n = str(input())\n",
    "    s.add(n)\n",
    "\n",
    "for _ in range(M):\n",
    "    m = str(input())\n",
    "    if m in s: \n",
    "        count += 1\n",
    "\n",
    "print(count)"
   ]
  },
  {
   "cell_type": "code",
   "execution_count": null,
   "id": "79c78247",
   "metadata": {},
   "outputs": [],
   "source": []
  },
  {
   "cell_type": "code",
   "execution_count": null,
   "id": "c3fdea5c",
   "metadata": {
    "scrolled": true
   },
   "outputs": [],
   "source": []
  },
  {
   "cell_type": "markdown",
   "id": "40636e0a",
   "metadata": {},
   "source": [
    "## 4번(숫자카드2)"
   ]
  },
  {
   "cell_type": "code",
   "execution_count": 325,
   "id": "6fae9e50",
   "metadata": {
    "scrolled": true
   },
   "outputs": [
    {
     "data": {
      "text/plain": [
       "11"
      ]
     },
     "execution_count": 325,
     "metadata": {},
     "output_type": "execute_result"
    }
   ],
   "source": [
    "# 숫자 카드는 정수 하나가 적혀져 있는 카드이다. \n",
    "# 상근이는 숫자 카드 N개를 가지고 있다. \n",
    "# 정수 M개가 주어졌을 때, 이 수가 적혀있는 숫자 카드를 상근이가 몇 개 가지고 있는지 구하는 프로그램을 작성하시오."
   ]
  },
  {
   "cell_type": "code",
   "execution_count": 514,
   "id": "4672434c",
   "metadata": {
    "scrolled": false
   },
   "outputs": [
    {
     "name": "stdout",
     "output_type": "stream",
     "text": [
      "10\n",
      "8\n"
     ]
    }
   ],
   "source": [
    "import sys\n",
    "\n",
    "N = int(input())\n",
    "N_card2 = list(map(int,sys.stdin.readline().split()))\n",
    "M = int(input())\n",
    "M_card2 = list(map(int,sys.stdin.readline().split()))"
   ]
  },
  {
   "cell_type": "code",
   "execution_count": 515,
   "id": "2ab3443f",
   "metadata": {},
   "outputs": [
    {
     "ename": "IndexError",
     "evalue": "list index out of range",
     "output_type": "error",
     "traceback": [
      "\u001b[0;31m---------------------------------------------------------------------------\u001b[0m",
      "\u001b[0;31mIndexError\u001b[0m                                Traceback (most recent call last)",
      "Input \u001b[0;32mIn [515]\u001b[0m, in \u001b[0;36m<cell line: 9>\u001b[0;34m()\u001b[0m\n\u001b[1;32m      7\u001b[0m         count[n] \u001b[38;5;241m=\u001b[39m \u001b[38;5;241m1\u001b[39m\n\u001b[1;32m      9\u001b[0m \u001b[38;5;28;01mfor\u001b[39;00m m \u001b[38;5;129;01min\u001b[39;00m \u001b[38;5;28mrange\u001b[39m(M):\n\u001b[0;32m---> 10\u001b[0m     \u001b[38;5;28;01mif\u001b[39;00m \u001b[43mM_card2\u001b[49m\u001b[43m[\u001b[49m\u001b[43mm\u001b[49m\u001b[43m]\u001b[49m \u001b[38;5;129;01min\u001b[39;00m count:\n\u001b[1;32m     11\u001b[0m         \u001b[38;5;28mprint\u001b[39m(count[M_card2[m]],end\u001b[38;5;241m=\u001b[39m\u001b[38;5;124m\"\u001b[39m\u001b[38;5;124m \u001b[39m\u001b[38;5;124m\"\u001b[39m)\n\u001b[1;32m     12\u001b[0m     \u001b[38;5;28;01melse\u001b[39;00m:\n",
      "\u001b[0;31mIndexError\u001b[0m: list index out of range"
     ]
    }
   ],
   "source": [
    "#정답\n",
    "\n",
    "count = {}\n",
    "\n",
    "for n in N_card2:\n",
    "    if n in count:\n",
    "        count[n] += 1\n",
    "    else:\n",
    "        count[n] = 1\n",
    "\n",
    "for m in range(M):\n",
    "    if M_card2[m] in count:\n",
    "        print(count[M_card2[m]],end=\" \")\n",
    "    else:\n",
    "        print(0, end=' ')"
   ]
  },
  {
   "cell_type": "code",
   "execution_count": 504,
   "id": "c8054368",
   "metadata": {
    "scrolled": true
   },
   "outputs": [
    {
     "name": "stdout",
     "output_type": "stream",
     "text": [
      "[0, 0, 0, 0, 0, 0, 0, 0]\n"
     ]
    }
   ],
   "source": []
  },
  {
   "cell_type": "code",
   "execution_count": null,
   "id": "425d9a64",
   "metadata": {},
   "outputs": [],
   "source": []
  },
  {
   "cell_type": "code",
   "execution_count": null,
   "id": "87e80a0a",
   "metadata": {},
   "outputs": [],
   "source": []
  },
  {
   "cell_type": "markdown",
   "id": "12e7ea6a",
   "metadata": {},
   "source": [
    "# 14단계[정수론 및 조합론]"
   ]
  },
  {
   "cell_type": "markdown",
   "id": "22424825",
   "metadata": {},
   "source": [
    "## 1번(배수와 약수)"
   ]
  },
  {
   "cell_type": "code",
   "execution_count": null,
   "id": "d64d19d5",
   "metadata": {},
   "outputs": [],
   "source": [
    "# 각 테스트 케이스마다 첫 번째 숫자가 두 번째 숫자의 \n",
    "# 약수라면 factor를, 배수라면 multiple을, 둘 다 아니라면 neither를 출력한다."
   ]
  },
  {
   "cell_type": "code",
   "execution_count": null,
   "id": "2f515462",
   "metadata": {
    "scrolled": true
   },
   "outputs": [],
   "source": []
  },
  {
   "cell_type": "code",
   "execution_count": 69,
   "id": "da546fc5",
   "metadata": {},
   "outputs": [
    {
     "name": "stdout",
     "output_type": "stream",
     "text": [
      "16 8\n",
      "multiple\n"
     ]
    },
    {
     "ename": "KeyboardInterrupt",
     "evalue": "Interrupted by user",
     "output_type": "error",
     "traceback": [
      "\u001b[0;31m---------------------------------------------------------------------------\u001b[0m",
      "\u001b[0;31mKeyboardInterrupt\u001b[0m                         Traceback (most recent call last)",
      "Input \u001b[0;32mIn [69]\u001b[0m, in \u001b[0;36m<cell line: 2>\u001b[0;34m()\u001b[0m\n\u001b[1;32m      1\u001b[0m \u001b[38;5;28;01mwhile\u001b[39;00m(\u001b[38;5;28;01mTrue\u001b[39;00m):\n\u001b[0;32m----> 2\u001b[0m     n, m \u001b[38;5;241m=\u001b[39m \u001b[38;5;28mmap\u001b[39m(\u001b[38;5;28mint\u001b[39m,\u001b[38;5;28;43minput\u001b[39;49m\u001b[43m(\u001b[49m\u001b[43m)\u001b[49m\u001b[38;5;241m.\u001b[39msplit())\n\u001b[1;32m      4\u001b[0m     \u001b[38;5;28;01mif\u001b[39;00m n \u001b[38;5;241m==\u001b[39m m \u001b[38;5;241m==\u001b[39m \u001b[38;5;241m0\u001b[39m:\n\u001b[1;32m      5\u001b[0m         \u001b[38;5;28;01mbreak\u001b[39;00m\n",
      "File \u001b[0;32m~/opt/anaconda3/lib/python3.9/site-packages/ipykernel/kernelbase.py:1075\u001b[0m, in \u001b[0;36mKernel.raw_input\u001b[0;34m(self, prompt)\u001b[0m\n\u001b[1;32m   1071\u001b[0m \u001b[38;5;28;01mif\u001b[39;00m \u001b[38;5;129;01mnot\u001b[39;00m \u001b[38;5;28mself\u001b[39m\u001b[38;5;241m.\u001b[39m_allow_stdin:\n\u001b[1;32m   1072\u001b[0m     \u001b[38;5;28;01mraise\u001b[39;00m StdinNotImplementedError(\n\u001b[1;32m   1073\u001b[0m         \u001b[38;5;124m\"\u001b[39m\u001b[38;5;124mraw_input was called, but this frontend does not support input requests.\u001b[39m\u001b[38;5;124m\"\u001b[39m\n\u001b[1;32m   1074\u001b[0m     )\n\u001b[0;32m-> 1075\u001b[0m \u001b[38;5;28;01mreturn\u001b[39;00m \u001b[38;5;28;43mself\u001b[39;49m\u001b[38;5;241;43m.\u001b[39;49m\u001b[43m_input_request\u001b[49m\u001b[43m(\u001b[49m\n\u001b[1;32m   1076\u001b[0m \u001b[43m    \u001b[49m\u001b[38;5;28;43mstr\u001b[39;49m\u001b[43m(\u001b[49m\u001b[43mprompt\u001b[49m\u001b[43m)\u001b[49m\u001b[43m,\u001b[49m\n\u001b[1;32m   1077\u001b[0m \u001b[43m    \u001b[49m\u001b[38;5;28;43mself\u001b[39;49m\u001b[38;5;241;43m.\u001b[39;49m\u001b[43m_parent_ident\u001b[49m\u001b[43m[\u001b[49m\u001b[38;5;124;43m\"\u001b[39;49m\u001b[38;5;124;43mshell\u001b[39;49m\u001b[38;5;124;43m\"\u001b[39;49m\u001b[43m]\u001b[49m\u001b[43m,\u001b[49m\n\u001b[1;32m   1078\u001b[0m \u001b[43m    \u001b[49m\u001b[38;5;28;43mself\u001b[39;49m\u001b[38;5;241;43m.\u001b[39;49m\u001b[43mget_parent\u001b[49m\u001b[43m(\u001b[49m\u001b[38;5;124;43m\"\u001b[39;49m\u001b[38;5;124;43mshell\u001b[39;49m\u001b[38;5;124;43m\"\u001b[39;49m\u001b[43m)\u001b[49m\u001b[43m,\u001b[49m\n\u001b[1;32m   1079\u001b[0m \u001b[43m    \u001b[49m\u001b[43mpassword\u001b[49m\u001b[38;5;241;43m=\u001b[39;49m\u001b[38;5;28;43;01mFalse\u001b[39;49;00m\u001b[43m,\u001b[49m\n\u001b[1;32m   1080\u001b[0m \u001b[43m\u001b[49m\u001b[43m)\u001b[49m\n",
      "File \u001b[0;32m~/opt/anaconda3/lib/python3.9/site-packages/ipykernel/kernelbase.py:1120\u001b[0m, in \u001b[0;36mKernel._input_request\u001b[0;34m(self, prompt, ident, parent, password)\u001b[0m\n\u001b[1;32m   1117\u001b[0m             \u001b[38;5;28;01mbreak\u001b[39;00m\n\u001b[1;32m   1118\u001b[0m \u001b[38;5;28;01mexcept\u001b[39;00m \u001b[38;5;167;01mKeyboardInterrupt\u001b[39;00m:\n\u001b[1;32m   1119\u001b[0m     \u001b[38;5;66;03m# re-raise KeyboardInterrupt, to truncate traceback\u001b[39;00m\n\u001b[0;32m-> 1120\u001b[0m     \u001b[38;5;28;01mraise\u001b[39;00m \u001b[38;5;167;01mKeyboardInterrupt\u001b[39;00m(\u001b[38;5;124m\"\u001b[39m\u001b[38;5;124mInterrupted by user\u001b[39m\u001b[38;5;124m\"\u001b[39m) \u001b[38;5;28;01mfrom\u001b[39;00m \u001b[38;5;28mNone\u001b[39m\n\u001b[1;32m   1121\u001b[0m \u001b[38;5;28;01mexcept\u001b[39;00m \u001b[38;5;167;01mException\u001b[39;00m:\n\u001b[1;32m   1122\u001b[0m     \u001b[38;5;28mself\u001b[39m\u001b[38;5;241m.\u001b[39mlog\u001b[38;5;241m.\u001b[39mwarning(\u001b[38;5;124m\"\u001b[39m\u001b[38;5;124mInvalid Message:\u001b[39m\u001b[38;5;124m\"\u001b[39m, exc_info\u001b[38;5;241m=\u001b[39m\u001b[38;5;28;01mTrue\u001b[39;00m)\n",
      "\u001b[0;31mKeyboardInterrupt\u001b[0m: Interrupted by user"
     ]
    }
   ],
   "source": [
    "while(True):\n",
    "    n, m = map(int,input().split())\n",
    "    \n",
    "    if n == m == 0:\n",
    "        break\n",
    "    \n",
    "    if n % m == 0 or m % n == 0: \n",
    "        if n > m:\n",
    "            print(\"multiple\")\n",
    "        else:\n",
    "            print(\"factor\")\n",
    "    \n",
    "    else:   \n",
    "        print(\"neither\")\n",
    "\n",
    "\n",
    "            "
   ]
  },
  {
   "cell_type": "code",
   "execution_count": null,
   "id": "8a92caa4",
   "metadata": {},
   "outputs": [],
   "source": []
  },
  {
   "cell_type": "code",
   "execution_count": null,
   "id": "9612cc7e",
   "metadata": {},
   "outputs": [],
   "source": []
  },
  {
   "cell_type": "markdown",
   "id": "f836a63d",
   "metadata": {},
   "source": [
    "## 3번(최대공약수와 최소공배수)"
   ]
  },
  {
   "cell_type": "code",
   "execution_count": null,
   "id": "88dac4b9",
   "metadata": {},
   "outputs": [],
   "source": [
    "# 두 개의 자연수를 입력받아 최대 공약수와 최소 공배수를 출력하는 프로그램"
   ]
  },
  {
   "cell_type": "code",
   "execution_count": 82,
   "id": "dc524f9d",
   "metadata": {
    "scrolled": true
   },
   "outputs": [
    {
     "name": "stdout",
     "output_type": "stream",
     "text": [
      "24 18\n"
     ]
    }
   ],
   "source": [
    "n, m = map(int,input().split())"
   ]
  },
  {
   "cell_type": "code",
   "execution_count": 89,
   "id": "b165e865",
   "metadata": {},
   "outputs": [
    {
     "name": "stdout",
     "output_type": "stream",
     "text": [
      "6\n",
      "72\n"
     ]
    }
   ],
   "source": [
    "#CGD\n",
    "x_list = []\n",
    "for x in range(min(n,m),0,-1):\n",
    "    if n%x == 0 and m%x == 0 :\n",
    "        x_list.append(x)\n",
    "        x_max = max(x_list)\n",
    "        \n",
    "#LCM\n",
    "y = (n * m) // x_max\n",
    "print(x_max\n",
    "print(y)\n"
   ]
  },
  {
   "cell_type": "code",
   "execution_count": null,
   "id": "f4afa263",
   "metadata": {},
   "outputs": [],
   "source": []
  },
  {
   "cell_type": "code",
   "execution_count": null,
   "id": "c9e47ed5",
   "metadata": {},
   "outputs": [],
   "source": []
  },
  {
   "cell_type": "code",
   "execution_count": null,
   "id": "9893b5ec",
   "metadata": {},
   "outputs": [],
   "source": []
  },
  {
   "cell_type": "code",
   "execution_count": null,
   "id": "d6df5d1f",
   "metadata": {},
   "outputs": [],
   "source": []
  },
  {
   "cell_type": "code",
   "execution_count": null,
   "id": "1dc8c4e8",
   "metadata": {},
   "outputs": [],
   "source": []
  },
  {
   "cell_type": "markdown",
   "id": "c45c26e9",
   "metadata": {},
   "source": [
    "## 6번(링)"
   ]
  },
  {
   "cell_type": "markdown",
   "id": "7a809aca",
   "metadata": {},
   "source": [
    "## 이미지"
   ]
  },
  {
   "cell_type": "code",
   "execution_count": 94,
   "id": "363e267f",
   "metadata": {},
   "outputs": [],
   "source": [
    "from IPython.display import Image"
   ]
  },
  {
   "cell_type": "code",
   "execution_count": null,
   "id": "b874f7fa",
   "metadata": {},
   "outputs": [],
   "source": [
    "# 링의 반지름이 주어진다. \n",
    "# 1번째 링을 한 바퀴 돌리면, 나머지 링은 몇 바퀴 돌아가는지 구하는 프로그램"
   ]
  },
  {
   "cell_type": "markdown",
   "id": "3db66db8",
   "metadata": {},
   "source": [
    "![이미지삽입](https://upload.acmicpc.net/44a0e81a-3870-4e94-8db0-73543fca3aa6/-/preview/)"
   ]
  },
  {
   "cell_type": "code",
   "execution_count": 170,
   "id": "12380f23",
   "metadata": {
    "scrolled": true
   },
   "outputs": [
    {
     "name": "stdout",
     "output_type": "stream",
     "text": [
      "4\n",
      "12 3 8 4 \n"
     ]
    }
   ],
   "source": [
    "N = int(input())\n",
    "R = map(int,input().split())"
   ]
  },
  {
   "cell_type": "code",
   "execution_count": 171,
   "id": "20889041",
   "metadata": {
    "scrolled": true
   },
   "outputs": [
    {
     "name": "stdout",
     "output_type": "stream",
     "text": [
      "4/1\n",
      "3/2\n",
      "3/1\n"
     ]
    }
   ],
   "source": [
    "from fractions import Fraction\n",
    "\n",
    "r = list(R)\n",
    "\n",
    "for i in range(1,len(r)):\n",
    "    ans = Fraction(r[0],r[i])\n",
    "    ans_str = str(ans)\n",
    "    if '/' not in ans_str:\n",
    "        ans_str = ans_str +'/1'\n",
    "    print(ans_str)\n",
    "        "
   ]
  },
  {
   "cell_type": "code",
   "execution_count": 172,
   "id": "a541da13",
   "metadata": {},
   "outputs": [],
   "source": [
    "# print(r)\n",
    "# print(r[0])\n",
    "# ans_str[1]"
   ]
  },
  {
   "cell_type": "code",
   "execution_count": 119,
   "id": "e478de62",
   "metadata": {},
   "outputs": [
    {
     "data": {
      "text/plain": [
       "range(0, 5)"
      ]
     },
     "execution_count": 119,
     "metadata": {},
     "output_type": "execute_result"
    }
   ],
   "source": [
    "range(5)"
   ]
  },
  {
   "cell_type": "code",
   "execution_count": null,
   "id": "08ddb7fa",
   "metadata": {},
   "outputs": [],
   "source": []
  },
  {
   "cell_type": "code",
   "execution_count": null,
   "id": "4b5b9b75",
   "metadata": {},
   "outputs": [],
   "source": []
  },
  {
   "cell_type": "markdown",
   "id": "8909e9dd",
   "metadata": {},
   "source": [
    "# 15단계[백트래킹]"
   ]
  },
  {
   "cell_type": "code",
   "execution_count": null,
   "id": "cf7ed9bc",
   "metadata": {},
   "outputs": [],
   "source": [
    "# 백트래킹\n",
    "# 해를 구하는 도중 해가 아니어서 막히면 막히기 전으로 다시 돌아가서 해를 찾는 기법\n",
    "# 예를 들어, 갈랫길에서 한쪽으로 갔다가 이 길이 아닌 것 같으면 왔던 길로 되돌아와 다른 선택지로 감"
   ]
  },
  {
   "cell_type": "code",
   "execution_count": null,
   "id": "75cecde5",
   "metadata": {},
   "outputs": [],
   "source": []
  },
  {
   "cell_type": "markdown",
   "id": "92dcd132",
   "metadata": {},
   "source": [
    "## 1번(N과M(1))"
   ]
  },
  {
   "cell_type": "code",
   "execution_count": 182,
   "id": "b3bbaea0",
   "metadata": {
    "scrolled": true
   },
   "outputs": [
    {
     "name": "stdout",
     "output_type": "stream",
     "text": [
      "4 2\n"
     ]
    }
   ],
   "source": [
    "N,M = map(int,input().split())"
   ]
  },
  {
   "cell_type": "code",
   "execution_count": 218,
   "id": "0eec06d4",
   "metadata": {},
   "outputs": [
    {
     "name": "stdout",
     "output_type": "stream",
     "text": [
      "1 2\n",
      "1 3\n",
      "1 4\n",
      "2 1\n",
      "2 3\n",
      "2 4\n",
      "3 1\n",
      "3 2\n",
      "3 4\n",
      "4 1\n",
      "4 2\n",
      "4 3\n"
     ]
    }
   ],
   "source": [
    "# 해설 참고\n",
    "ans = []\n",
    "\n",
    "def dfs():\n",
    "    if len(ans) == M:\n",
    "        print(' '.join(map(str,ans)))\n",
    "        return\n",
    "    \n",
    "    for i in range(1,N+1):\n",
    "        if i not in ans:\n",
    "            ans.append(i)\n",
    "            dfs()\n",
    "            ans.pop()\n",
    "\n",
    "dfs()"
   ]
  },
  {
   "cell_type": "code",
   "execution_count": null,
   "id": "24c5c92a",
   "metadata": {
    "scrolled": true
   },
   "outputs": [],
   "source": []
  },
  {
   "cell_type": "code",
   "execution_count": null,
   "id": "94223a81",
   "metadata": {},
   "outputs": [],
   "source": []
  },
  {
   "cell_type": "markdown",
   "id": "2b3d18c0",
   "metadata": {},
   "source": [
    "## 4번(N과M(4))"
   ]
  },
  {
   "cell_type": "code",
   "execution_count": 239,
   "id": "85992411",
   "metadata": {
    "scrolled": true
   },
   "outputs": [
    {
     "name": "stdout",
     "output_type": "stream",
     "text": [
      "3 3\n"
     ]
    }
   ],
   "source": [
    "N,M = map(int,input().split())"
   ]
  },
  {
   "cell_type": "code",
   "execution_count": 253,
   "id": "42f30318",
   "metadata": {},
   "outputs": [
    {
     "name": "stdout",
     "output_type": "stream",
     "text": [
      "1 1 1\n",
      "1 1 2\n",
      "1 1 3\n",
      "1 2 2\n",
      "1 2 3\n",
      "1 3 3\n",
      "2 2 2\n",
      "2 2 3\n",
      "2 3 3\n",
      "3 3 3\n"
     ]
    }
   ],
   "source": [
    "ans = []\n",
    "\n",
    "def dfs(start):\n",
    "    if len(ans) == M:\n",
    "        print(' '.join(map(str,ans)))\n",
    "        return\n",
    "    \n",
    "    for i in range(start,N+1):\n",
    "        ans.append(i)\n",
    "        dfs(i)\n",
    "        ans.pop()\n",
    "\n",
    "dfs(1)"
   ]
  },
  {
   "cell_type": "code",
   "execution_count": null,
   "id": "fbb39e7d",
   "metadata": {},
   "outputs": [],
   "source": []
  },
  {
   "cell_type": "code",
   "execution_count": null,
   "id": "2142ad36",
   "metadata": {},
   "outputs": [],
   "source": []
  },
  {
   "cell_type": "markdown",
   "id": "44feea05",
   "metadata": {},
   "source": [
    "# 16단계[동적계획법]"
   ]
  },
  {
   "cell_type": "markdown",
   "id": "72df16fd",
   "metadata": {},
   "source": [
    "**동적계획법?\n",
    "\n",
    "필요한 계산 값을 저장해두었다가 재사용하는 알고리즘 설계 기법\n",
    "\n",
    "1. Topdown - 재귀함수    \n",
    "한번 구한 계산 결과를 메모리 공간에 메모해두고, 같은 식을 다시 호출하면 메모한 결과 그대로 가져오는 기법 (memoization)\n",
    "\n",
    "2. Bottom-Up - 반복문      \n",
    "하위 문제부터 천천히 해결하면서 더 큰 문제를 해결하는 기법(tabulation)\n",
    "다이나믹 프로그래밍의 전형적인 형태는 바로 이 보텀업 방식"
   ]
  },
  {
   "cell_type": "markdown",
   "id": "fefa524e",
   "metadata": {},
   "source": [
    "## 1번(알고리즘 수업 - 피보나치 수 1)"
   ]
  },
  {
   "cell_type": "code",
   "execution_count": 551,
   "id": "dc229274",
   "metadata": {
    "scrolled": false
   },
   "outputs": [
    {
     "name": "stdout",
     "output_type": "stream",
     "text": [
      "30\n"
     ]
    }
   ],
   "source": [
    "n = int(input())"
   ]
  },
  {
   "cell_type": "code",
   "execution_count": 558,
   "id": "45fdd1ab",
   "metadata": {},
   "outputs": [
    {
     "data": {
      "text/plain": [
       "832040"
      ]
     },
     "execution_count": 558,
     "metadata": {},
     "output_type": "execute_result"
    }
   ],
   "source": [
    "#재귀함수\n",
    "\n",
    "def fib_recur(n):\n",
    "    count1 = 0\n",
    "    if (n == 1 or n == 2):\n",
    "        return 1;  # 코드1\n",
    "        count1 += 1\n",
    "        \n",
    "    else: \n",
    "        return (fib_recur(n - 1) + fib_recur(n - 2))\n",
    "\n",
    "\n",
    "fib_recur(n)\n",
    "\n",
    "#fib(5) = fib(4) + fib(3) = 2 + 1 + 1 + 1 = 5   \n",
    "#fib(4) = fib(3) + fib(2) = 2 + 1\n",
    "#fib(3) = fib(2) + fib(1) = 1 + 1 "
   ]
  },
  {
   "cell_type": "code",
   "execution_count": 564,
   "id": "3e7ffed7",
   "metadata": {},
   "outputs": [
    {
     "ename": "IndexError",
     "evalue": "list assignment index out of range",
     "output_type": "error",
     "traceback": [
      "\u001b[0;31m---------------------------------------------------------------------------\u001b[0m",
      "\u001b[0;31mIndexError\u001b[0m                                Traceback (most recent call last)",
      "Input \u001b[0;32mIn [564]\u001b[0m, in \u001b[0;36m<cell line: 13>\u001b[0;34m()\u001b[0m\n\u001b[1;32m      9\u001b[0m         count2 \u001b[38;5;241m+\u001b[39m\u001b[38;5;241m=\u001b[39m \u001b[38;5;241m1\u001b[39m\n\u001b[1;32m     10\u001b[0m     \u001b[38;5;28;01mreturn\u001b[39;00m count2\n\u001b[0;32m---> 13\u001b[0m \u001b[43mfib_dyn\u001b[49m\u001b[43m(\u001b[49m\u001b[43mn\u001b[49m\u001b[43m)\u001b[49m\n",
      "Input \u001b[0;32mIn [564]\u001b[0m, in \u001b[0;36mfib_dyn\u001b[0;34m(n)\u001b[0m\n\u001b[1;32m      3\u001b[0m \u001b[38;5;28;01mdef\u001b[39;00m \u001b[38;5;21mfib_dyn\u001b[39m(n):\n\u001b[1;32m      4\u001b[0m     count2 \u001b[38;5;241m=\u001b[39m \u001b[38;5;241m0\u001b[39m\n\u001b[0;32m----> 5\u001b[0m     fib_dyn_list[\u001b[38;5;241m1\u001b[39m] \u001b[38;5;241m=\u001b[39m fib_dyn_list[\u001b[38;5;241m2\u001b[39m] \u001b[38;5;241m=\u001b[39m \u001b[38;5;241m1\u001b[39m\n\u001b[1;32m      7\u001b[0m     \u001b[38;5;28;01mfor\u001b[39;00m i \u001b[38;5;129;01min\u001b[39;00m \u001b[38;5;28mrange\u001b[39m(\u001b[38;5;241m3\u001b[39m,n\u001b[38;5;241m+\u001b[39m\u001b[38;5;241m1\u001b[39m):\n\u001b[1;32m      8\u001b[0m         fib_dyn_list[i] \u001b[38;5;241m=\u001b[39m (fib_dyn_list[i\u001b[38;5;241m-\u001b[39m\u001b[38;5;241m1\u001b[39m] \u001b[38;5;241m+\u001b[39m fib_dyn_list[i\u001b[38;5;241m-\u001b[39m\u001b[38;5;241m2\u001b[39m])\n",
      "\u001b[0;31mIndexError\u001b[0m: list assignment index out of range"
     ]
    }
   ],
   "source": [
    "fib_dyn_list = []*(n+1)\n",
    "\n",
    "def fib_dyn(n):\n",
    "    count2 = 0\n",
    "    fib_dyn_list[1] = fib_dyn_list[2] = 1\n",
    "    \n",
    "    for i in range(3,n+1):\n",
    "        fib_dyn_list[i] = (fib_dyn_list[i-1] + fib_dyn_list[i-2])\n",
    "        count2 += 1\n",
    "    return count2\n",
    "\n",
    "\n",
    "fib_dyn(n)\n",
    "\n",
    "# fib = [0]*100\n",
    "\n",
    "# fib[1] = fib[2] = 1\n",
    "# count2 = 1\n",
    "\n",
    "# def fibonacci(n):\n",
    "#     for i in range(3,n+1):\n",
    "#             fib[i] = fib[i-1] + fib[i-2]  # 코드2\n",
    "#             count2 += 1\n",
    "            \n",
    "#     return fib[n]\n",
    "\n",
    "# fibonacci(n)\n",
    "\n",
    "# #fibonacci(5) = \n",
    "# # i = 3 fibonacci(2) + fibonacci(1)\n",
    "# # i = 4 fibonacci(3) + fibonacci(2) \n",
    "# # i = 5 fibonacci(4) + fibocacci(3)\n",
    "\n",
    "      "
   ]
  },
  {
   "cell_type": "code",
   "execution_count": null,
   "id": "3f5fcb3a",
   "metadata": {},
   "outputs": [],
   "source": []
  },
  {
   "cell_type": "code",
   "execution_count": null,
   "id": "4a5c31b0",
   "metadata": {},
   "outputs": [],
   "source": []
  },
  {
   "cell_type": "markdown",
   "id": "bb7bde13",
   "metadata": {},
   "source": [
    "## **4번(파도반 수열)"
   ]
  },
  {
   "cell_type": "markdown",
   "id": "b3085245",
   "metadata": {},
   "source": [
    "오른쪽 그림과 같이 삼각형이 나선 모양으로 놓여져 있다. 첫 삼각형은 정삼각형으로 변의 길이는 1이다. 그 다음에는 다음과 같은 과정으로 정삼각형을 계속 추가한다. 나선에서 가장 긴 변의 길이를 k라 했을 때, 그 변에 길이가 k인 정삼각형을 추가한다.\n",
    "\n",
    "파도반 수열 P(N)은 나선에 있는 정삼각형의 변의 길이이다. P(1)부터 P(10)까지 첫 10개 숫자는 1, 1, 1, 2, 2, 3, 4, 5, 7, 9이다.\n",
    "\n",
    "N이 주어졌을 때, P(N)을 구하는 프로그램을 작성하시오.\n",
    "\n",
    "![이미지](https://www.acmicpc.net/upload/images/pandovan.png)"
   ]
  },
  {
   "cell_type": "markdown",
   "id": "57fa934f",
   "metadata": {},
   "source": [
    "아이디어) \n",
    "1 1 1 2 2 3 4 5 7 9 \n",
    "a1 + a2 = a4 \n",
    "a3 + a4 = a6   \n",
    "[i-3] + [i-2] =[i] 꼴"
   ]
  },
  {
   "cell_type": "code",
   "execution_count": 309,
   "id": "b0ac1167",
   "metadata": {},
   "outputs": [
    {
     "name": "stdout",
     "output_type": "stream",
     "text": [
      "2\n",
      "3\n",
      "6\n"
     ]
    }
   ],
   "source": [
    "T = int(input())\n",
    "\n",
    "for _ in range(T):\n",
    "    n = int(input())"
   ]
  },
  {
   "cell_type": "code",
   "execution_count": null,
   "id": "5e687196",
   "metadata": {},
   "outputs": [],
   "source": []
  },
  {
   "cell_type": "code",
   "execution_count": 339,
   "id": "3bd7dc3b",
   "metadata": {},
   "outputs": [
    {
     "name": "stdout",
     "output_type": "stream",
     "text": [
      "2\n",
      "6\n",
      "3\n",
      "12\n",
      "16\n"
     ]
    }
   ],
   "source": [
    "# n-1 + n-5 = n 으로 계산 시\n",
    "# 정답\n",
    "\n",
    "T = int(input())\n",
    "\n",
    "for _ in range(T):\n",
    "    p = [0,1,1,1,2,2]\n",
    "    n = (int(input()))\n",
    "    \n",
    "    for i in range(6,n+1):\n",
    "        p.append(p[i-1]+p[i-5])\n",
    "\n",
    "    print(p[n])"
   ]
  },
  {
   "cell_type": "code",
   "execution_count": 338,
   "id": "b1db2da4",
   "metadata": {},
   "outputs": [
    {
     "name": "stdout",
     "output_type": "stream",
     "text": [
      "2\n",
      "6\n",
      "3\n",
      "12\n",
      "16\n"
     ]
    }
   ],
   "source": [
    "#시간 초과 => 왜일까??????????\n",
    "#앞쪽 리스트 미지정?\n",
    "    \n",
    "def P(n):\n",
    "    if n <= 3: \n",
    "        return 1\n",
    "    else: \n",
    "        return P(n - 3) + P(n - 2)      \n",
    "\n",
    "T = int(input())\n",
    "for _ in range(T):\n",
    "    n = int(input())\n",
    "    print(P(n))\n",
    "\n",
    "\n",
    "\n",
    "#P(6) = P(3) + P(4)\n",
    "#P(4) = P(1) + P(2)\n",
    "#P(3) = P(0) + P(1)"
   ]
  },
  {
   "cell_type": "code",
   "execution_count": null,
   "id": "999da5bc",
   "metadata": {},
   "outputs": [],
   "source": []
  },
  {
   "cell_type": "code",
   "execution_count": null,
   "id": "c3501fe6",
   "metadata": {},
   "outputs": [],
   "source": []
  },
  {
   "cell_type": "markdown",
   "id": "c24939ee",
   "metadata": {},
   "source": [
    "## 7번(정수 삼각형)"
   ]
  },
  {
   "cell_type": "markdown",
   "id": "30fc36f7",
   "metadata": {},
   "source": [
    "            7\n",
    "          3   8\n",
    "        8   1   0\n",
    "      2   7   4   4\n",
    "    4   5   2   6   5\n",
    "\n",
    "위 그림은 크기가 5인 정수 삼각형의 한 모습이다.\n",
    "\n",
    "맨 위층 7부터 시작해서 아래에 있는 수 중 하나를 선택하여 아래층으로 내려올 때, 이제까지 선택된 수의 합이 최대가 되는 경로를 구하는 프로그램을 작성하라. 아래층에 있는 수는 현재 층에서 선택된 수의 대각선 왼쪽 또는 대각선 오른쪽에 있는 것 중에서만 선택할 수 있다.\n",
    "\n",
    "삼각형의 크기는 1 이상 500 이하이다. 삼각형을 이루고 있는 각 수는 모두 정수이며, 범위는 0 이상 9999 이하이다."
   ]
  },
  {
   "cell_type": "code",
   "execution_count": null,
   "id": "181753f1",
   "metadata": {},
   "outputs": [],
   "source": [
    "#각 줄 최대값 골라서 더하기\n"
   ]
  },
  {
   "cell_type": "code",
   "execution_count": 359,
   "id": "c6136c89",
   "metadata": {
    "scrolled": false
   },
   "outputs": [
    {
     "name": "stdout",
     "output_type": "stream",
     "text": [
      "5\n",
      "7\n",
      "3 8\n",
      "8 1 0\n",
      "2 7 4 4 \n",
      "4 5 2 6 5\n"
     ]
    }
   ],
   "source": [
    "S = int(input())\n",
    "num_list = []\n",
    "\n",
    "for i in range(S):\n",
    "    num_list.append(list(map(int,input().split())))"
   ]
  },
  {
   "cell_type": "code",
   "execution_count": 360,
   "id": "436350fe",
   "metadata": {},
   "outputs": [
    {
     "data": {
      "text/plain": [
       "[[7], [3, 8], [8, 1, 0], [2, 7, 4, 4], [4, 5, 2, 6, 5]]"
      ]
     },
     "execution_count": 360,
     "metadata": {},
     "output_type": "execute_result"
    }
   ],
   "source": [
    "num_list"
   ]
  },
  {
   "cell_type": "code",
   "execution_count": 361,
   "id": "89b8b8a6",
   "metadata": {},
   "outputs": [
    {
     "name": "stdout",
     "output_type": "stream",
     "text": [
      "30\n"
     ]
    }
   ],
   "source": [
    "for i in range(1,S):\n",
    "    for j in range(i+1):\n",
    "        if j == 0:  #맨 왼쪽\n",
    "            num_list[i][0] = num_list[i-1][0] + num_list[i][0]\n",
    "        elif j == i :   #맨 오른쪽\n",
    "            num_list[i][j] = num_list[i-1][j-1] + num_list[i][j]\n",
    "        else : \n",
    "            num_list[i][j] = max((num_list[i-1][j-1] + num_list[i][j]), (num_list[i-1][j] + num_list[i][j]))\n",
    "            \n",
    "print(max(num_list[-1]))            \n"
   ]
  },
  {
   "cell_type": "code",
   "execution_count": 362,
   "id": "933aedae",
   "metadata": {},
   "outputs": [
    {
     "data": {
      "text/plain": [
       "[[7], [10, 15], [18, 16, 15], [20, 25, 20, 19], [24, 30, 27, 26, 24]]"
      ]
     },
     "execution_count": 362,
     "metadata": {},
     "output_type": "execute_result"
    }
   ],
   "source": [
    "num_list"
   ]
  },
  {
   "cell_type": "code",
   "execution_count": null,
   "id": "b65821da",
   "metadata": {},
   "outputs": [],
   "source": []
  },
  {
   "cell_type": "code",
   "execution_count": null,
   "id": "38967c5c",
   "metadata": {},
   "outputs": [],
   "source": []
  },
  {
   "cell_type": "code",
   "execution_count": null,
   "id": "90bd851d",
   "metadata": {},
   "outputs": [],
   "source": []
  },
  {
   "cell_type": "code",
   "execution_count": null,
   "id": "582ea2f8",
   "metadata": {},
   "outputs": [],
   "source": []
  },
  {
   "cell_type": "code",
   "execution_count": null,
   "id": "26a3bc96",
   "metadata": {},
   "outputs": [],
   "source": []
  }
 ],
 "metadata": {
  "kernelspec": {
   "display_name": "Python 3 (ipykernel)",
   "language": "python",
   "name": "python3"
  },
  "language_info": {
   "codemirror_mode": {
    "name": "ipython",
    "version": 3
   },
   "file_extension": ".py",
   "mimetype": "text/x-python",
   "name": "python",
   "nbconvert_exporter": "python",
   "pygments_lexer": "ipython3",
   "version": "3.9.12"
  }
 },
 "nbformat": 4,
 "nbformat_minor": 5
}
