{
 "cells": [
  {
   "cell_type": "markdown",
   "id": "e724c18c",
   "metadata": {},
   "source": [
    "# 17단계[누적 합]"
   ]
  },
  {
   "cell_type": "markdown",
   "id": "c8e82e36",
   "metadata": {},
   "source": [
    "누적합\n",
    "1. 슬라이싱\n",
    "2. 누적합 - 누적합"
   ]
  },
  {
   "cell_type": "markdown",
   "id": "8d37909f",
   "metadata": {},
   "source": [
    "## 1번 (구간 합 구하기4)"
   ]
  },
  {
   "cell_type": "markdown",
   "id": "5f304482",
   "metadata": {},
   "source": [
    "수 N개가 주어졌을 때, i번째 수부터 j번째 수까지 합을 구하는 프로그램을 작성하시오."
   ]
  },
  {
   "cell_type": "code",
   "execution_count": 62,
   "id": "50ee6a6f",
   "metadata": {
    "scrolled": true
   },
   "outputs": [
    {
     "name": "stdout",
     "output_type": "stream",
     "text": [
      "5 3\n",
      "5 4 3 2 1\n",
      "1 3\n",
      "12\n",
      "2 4\n",
      "9\n",
      "5 5\n",
      "1\n"
     ]
    }
   ],
   "source": [
    "#슬라이싱은 시간초과 발생\n",
    "#오답\n",
    "\n",
    "N, M = map(int,input().split())\n",
    "\n",
    "n_list = list(map(int,input().split()))\n",
    "ans_list = []\n",
    "\n",
    "for _ in range(M):\n",
    "    i,j = map(int,input().split())\n",
    "    ans = sum(n_list[(i-1):j])\n",
    "    print(ans)"
   ]
  },
  {
   "cell_type": "code",
   "execution_count": 67,
   "id": "19ebe74e",
   "metadata": {
    "scrolled": false
   },
   "outputs": [
    {
     "ename": "ValueError",
     "evalue": "not enough values to unpack (expected 2, got 0)",
     "output_type": "error",
     "traceback": [
      "\u001b[0;31m---------------------------------------------------------------------------\u001b[0m",
      "\u001b[0;31mValueError\u001b[0m                                Traceback (most recent call last)",
      "Input \u001b[0;32mIn [67]\u001b[0m, in \u001b[0;36m<cell line: 3>\u001b[0;34m()\u001b[0m\n\u001b[1;32m      1\u001b[0m \u001b[38;5;28;01mimport\u001b[39;00m \u001b[38;5;21;01msys\u001b[39;00m\n\u001b[0;32m----> 3\u001b[0m n,m \u001b[38;5;241m=\u001b[39m \u001b[38;5;28mmap\u001b[39m(\u001b[38;5;28mint\u001b[39m,sys\u001b[38;5;241m.\u001b[39mstdin\u001b[38;5;241m.\u001b[39mreadline()\u001b[38;5;241m.\u001b[39msplit())\n\u001b[1;32m      4\u001b[0m n_list \u001b[38;5;241m=\u001b[39m \u001b[38;5;28mlist\u001b[39m(\u001b[38;5;28mmap\u001b[39m(\u001b[38;5;28mint\u001b[39m,sys\u001b[38;5;241m.\u001b[39mstdin\u001b[38;5;241m.\u001b[39mreadline()\u001b[38;5;241m.\u001b[39msplit()))\n\u001b[1;32m      6\u001b[0m sum_accum \u001b[38;5;241m=\u001b[39m \u001b[38;5;241m0\u001b[39m\n",
      "\u001b[0;31mValueError\u001b[0m: not enough values to unpack (expected 2, got 0)"
     ]
    }
   ],
   "source": [
    "import sys\n",
    "\n",
    "n,m = map(int,sys.stdin.readline().split())\n",
    "n_list = list(map(int,sys.stdin.readline().split()))\n",
    "\n",
    "sum_accum = 0\n",
    "sum_ans = [0]"
   ]
  },
  {
   "cell_type": "code",
   "execution_count": 69,
   "id": "751c755b",
   "metadata": {},
   "outputs": [
    {
     "ename": "NameError",
     "evalue": "name 'sum_accum' is not defined",
     "output_type": "error",
     "traceback": [
      "\u001b[0;31m---------------------------------------------------------------------------\u001b[0m",
      "\u001b[0;31mNameError\u001b[0m                                 Traceback (most recent call last)",
      "Input \u001b[0;32mIn [69]\u001b[0m, in \u001b[0;36m<cell line: 1>\u001b[0;34m()\u001b[0m\n\u001b[1;32m      1\u001b[0m \u001b[38;5;28;01mfor\u001b[39;00m i \u001b[38;5;129;01min\u001b[39;00m n_list:\n\u001b[0;32m----> 2\u001b[0m     sum_accum \u001b[38;5;241m+\u001b[39m\u001b[38;5;241m=\u001b[39m i\n\u001b[1;32m      3\u001b[0m     sum_ans\u001b[38;5;241m.\u001b[39mappend(sum_accum)\n\u001b[1;32m      5\u001b[0m \u001b[38;5;28;01mfor\u001b[39;00m _ \u001b[38;5;129;01min\u001b[39;00m \u001b[38;5;28mrange\u001b[39m(m):\n",
      "\u001b[0;31mNameError\u001b[0m: name 'sum_accum' is not defined"
     ]
    }
   ],
   "source": [
    "#정답\n",
    "\n",
    "for i in n_list:\n",
    "    sum_accum += i\n",
    "    sum_ans.append(sum_accum)\n",
    "\n",
    "for _ in range(m):\n",
    "    a, b = map(int,sys.stdin.readline().split())\n",
    "    print(sum_ans[b] - sum_ans[a-1])  \n",
    "    #인덱싱이 n_list내 idx+1이므로, 처음에 sum_ans list만들떄 0 넣어줌"
   ]
  },
  {
   "cell_type": "code",
   "execution_count": null,
   "id": "8bb9c05b",
   "metadata": {},
   "outputs": [],
   "source": []
  },
  {
   "cell_type": "code",
   "execution_count": null,
   "id": "fc16447f",
   "metadata": {},
   "outputs": [],
   "source": []
  },
  {
   "cell_type": "markdown",
   "id": "ea226129",
   "metadata": {},
   "source": [
    "## 2번(수열)"
   ]
  },
  {
   "cell_type": "markdown",
   "id": "13ab2178",
   "metadata": {},
   "source": [
    "매일 아침 9시에 학교에서 측정한 온도가 어떤 정수의 수열로 주어졌을 때, 연속적인 며칠 동안의 온도의 합이 가장 큰 값을 알아보고자 한다.\n",
    "\n",
    "예를 들어, 아래와 같이 10일 간의 온도가 주어졌을 때, \n",
    "\n",
    "3 -2 -4 -9 0 3 7 13 8 -3\n",
    "\n",
    "모든 연속적인 이틀간의 온도의 합은 아래와 같다.\n",
    "\n",
    "![이미지](https://upload.acmicpc.net/563b6bfd-12ff-4275-a869-90fdd43b6deb/-/preview/)\n",
    "\n",
    "이때, 온도의 합이 가장 큰 값은 21이다. \n",
    "\n",
    "또 다른 예로 위와 같은 온도가 주어졌을 때, 모든 연속적인 5일 간의 온도의 합은 아래와 같으며, \n",
    "\n",
    "![이미지2](https://upload.acmicpc.net/cb8d846c-2f90-475a-8901-1fb69de87397/-/preview/)\n",
    "\n",
    "이때, 온도의 합이 가장 큰 값은 31이다.\n",
    "\n",
    "매일 측정한 온도가 정수의 수열로 주어졌을 때, 연속적인 며칠 동안의 온도의 합이 가장 큰 값을 계산하는 프로그램을 작성하시오. "
   ]
  },
  {
   "cell_type": "code",
   "execution_count": 104,
   "id": "974cfa4e",
   "metadata": {
    "scrolled": true
   },
   "outputs": [
    {
     "name": "stdout",
     "output_type": "stream",
     "text": [
      "10 2\n",
      "3 -2 -4 -9 0 3 7 13 8 -3\n"
     ]
    }
   ],
   "source": [
    "#import sys\n",
    "\n",
    "N,K = map(int,input().split())\n",
    "\n",
    "temp = list(map(int,input().split()))\n",
    "#sys.stdin.readline()"
   ]
  },
  {
   "cell_type": "code",
   "execution_count": 105,
   "id": "fc1227eb",
   "metadata": {},
   "outputs": [
    {
     "data": {
      "text/plain": [
       "[3, -2, -4, -9, 0, 3, 7, 13, 8, -3]"
      ]
     },
     "execution_count": 105,
     "metadata": {},
     "output_type": "execute_result"
    }
   ],
   "source": [
    "temp"
   ]
  },
  {
   "cell_type": "code",
   "execution_count": 120,
   "id": "8a13bcbb",
   "metadata": {},
   "outputs": [
    {
     "name": "stdout",
     "output_type": "stream",
     "text": [
      "21\n"
     ]
    }
   ],
   "source": [
    "accum = []\n",
    "\n",
    "for k in range(N-K+1):\n",
    "    accum.append(sum(temp[k:k+K]))\n",
    "\n",
    "print(max(accum))"
   ]
  },
  {
   "cell_type": "code",
   "execution_count": 121,
   "id": "8153564e",
   "metadata": {},
   "outputs": [],
   "source": [
    "# a = [1,2,3,4]\n",
    "# sum(a)\n",
    "# max(a)"
   ]
  },
  {
   "cell_type": "code",
   "execution_count": null,
   "id": "ad385071",
   "metadata": {},
   "outputs": [],
   "source": [
    "# 시간 초과\n",
    "\n",
    "import sys\n",
    "\n",
    "N,K = map(int,input().split())\n",
    "\n",
    "temp = list(map(int,sys.stdin.readline().split()))\n",
    "\n",
    "accum = []\n",
    "\n",
    "for k in range(N-K+1):\n",
    "    accum.append(sum(temp[k:k+K]))\n",
    "\n",
    "print(max(accum))"
   ]
  },
  {
   "cell_type": "code",
   "execution_count": 147,
   "id": "e2f004f6",
   "metadata": {},
   "outputs": [
    {
     "name": "stdout",
     "output_type": "stream",
     "text": [
      "10 2\n",
      "3 -2 -4 -9 0 3 7 13 8 -3\n",
      "[1, -6, -13, -9, 0, 7, 20, 21, 5]\n"
     ]
    },
    {
     "data": {
      "text/plain": [
       "21"
      ]
     },
     "execution_count": 147,
     "metadata": {},
     "output_type": "execute_result"
    }
   ],
   "source": [
    "#시간초과\n",
    "\n",
    "import sys\n",
    "#sys.stdin.readline()\n",
    "N,K = map(int,input().split())\n",
    "\n",
    "temp = list(map(int,input().split()))\n",
    "# print(temp)\n",
    "accum = [0]\n",
    "ans = []\n",
    "\n",
    "for i in range(N-1):\n",
    "    accum = sum(set(temp[:i+K]) - set(temp[:i]))\n",
    "    ans.append(accum)\n",
    "\n",
    "print(ans)\n",
    "max(ans)\n",
    "\n",
    "# (3 -2 -4 -9 0 3 7 13 8 -3)"
   ]
  },
  {
   "cell_type": "code",
   "execution_count": 140,
   "id": "fd123fe6",
   "metadata": {},
   "outputs": [
    {
     "data": {
      "text/plain": [
       "[1, 2]"
      ]
     },
     "execution_count": 140,
     "metadata": {},
     "output_type": "execute_result"
    }
   ],
   "source": [
    "a=[1,2,3,4,5,6]\n",
    "a[:2]"
   ]
  },
  {
   "cell_type": "code",
   "execution_count": null,
   "id": "62ed628c",
   "metadata": {},
   "outputs": [],
   "source": []
  },
  {
   "cell_type": "code",
   "execution_count": null,
   "id": "05b02201",
   "metadata": {},
   "outputs": [],
   "source": []
  },
  {
   "cell_type": "code",
   "execution_count": null,
   "id": "037a8f23",
   "metadata": {},
   "outputs": [],
   "source": []
  },
  {
   "cell_type": "markdown",
   "id": "2a19d203",
   "metadata": {},
   "source": [
    "## 3번(인간-컴퓨터 상호작용)"
   ]
  },
  {
   "cell_type": "markdown",
   "id": "687e2285",
   "metadata": {},
   "source": [
    "승재는 인간-컴퓨터 상호작용에서 생체공학 설계를 공부하다가 키보드 자판이 실용적인지 궁금해졌다. 이를 알아보기 위해 승재는 다음과 같은 생각을 했다. \n",
    "\n",
    "'문자열에서 특정 알파벳이 몇 번 나타나는지 알아봐서 자주 나타나는 알파벳이 중지나 검지 위치에 오는 알파벳인지 확인하면 실용적인지 확인할 수 있을 것이다.'\n",
    "\n",
    "승재를 도와 특정 문자열 \n",
    "S\n",
    "$S$, 특정 알파벳 \n",
    "α\n",
    "$\\alpha$와 문자열의 구간 \n",
    "[\n",
    "l\n",
    ",\n",
    "r\n",
    "]\n",
    "$[l,r]$이 주어지면 \n",
    "S\n",
    "$S$의 \n",
    "l\n",
    "$l$번째 문자부터 \n",
    "r\n",
    "$r$번째 문자 사이에\n",
    "α\n",
    "$\\alpha$가 몇 번 나타나는지 구하는 프로그램을 작성하여라. 승재는 문자열의 문자는 \n",
    "0\n",
    "$0$번째부터 세며, \n",
    "l\n",
    "$l$번째와 \n",
    "r\n",
    "$r$번째 문자를 포함해서 생각한다. 주의할 점은 승재는 호기심이 많기에 (통계적으로 크게 무의미하지만) 같은 문자열을 두고 질문을 \n",
    "q\n",
    "$q$번 할 것이다"
   ]
  },
  {
   "cell_type": "markdown",
   "id": "fa223732",
   "metadata": {},
   "source": [
    "seungjaehwang\n",
    "\n",
    "4\n",
    "\n",
    "a 0 5\n",
    "\n",
    "a 0 6\n",
    "\n",
    "a 6 10\n",
    "\n",
    "a 7 10\n",
    "\n"
   ]
  },
  {
   "cell_type": "code",
   "execution_count": 152,
   "id": "b7a167db",
   "metadata": {
    "scrolled": true
   },
   "outputs": [
    {
     "name": "stdout",
     "output_type": "stream",
     "text": [
      "seungjaehwang\n",
      "4\n",
      "a 0 5\n",
      "a 0 6\n",
      "a 6 10\n",
      "a 7 10\n"
     ]
    }
   ],
   "source": [
    "import string\n",
    "\n",
    "S = input().strip()\n",
    "N = int(input())\n"
   ]
  },
  {
   "cell_type": "code",
   "execution_count": 154,
   "id": "56c92a66",
   "metadata": {},
   "outputs": [
    {
     "name": "stdout",
     "output_type": "stream",
     "text": [
      "{'a': [0, 0, 0, 0, 0, 0, 0, 1, 1, 1, 1, 2, 2, 2], 'b': [0, 0, 0, 0, 0, 0, 0, 0, 0, 0, 0, 0, 0, 0], 'c': [0, 0, 0, 0, 0, 0, 0, 0, 0, 0, 0, 0, 0, 0], 'd': [0, 0, 0, 0, 0, 0, 0, 0, 0, 0, 0, 0, 0, 0], 'e': [0, 0, 1, 1, 1, 1, 1, 1, 2, 2, 2, 2, 2, 2], 'f': [0, 0, 0, 0, 0, 0, 0, 0, 0, 0, 0, 0, 0, 0], 'g': [0, 0, 0, 0, 0, 1, 1, 1, 1, 1, 1, 1, 1, 2], 'h': [0, 0, 0, 0, 0, 0, 0, 0, 0, 1, 1, 1, 1, 1], 'i': [0, 0, 0, 0, 0, 0, 0, 0, 0, 0, 0, 0, 0, 0], 'j': [0, 0, 0, 0, 0, 0, 1, 1, 1, 1, 1, 1, 1, 1], 'k': [0, 0, 0, 0, 0, 0, 0, 0, 0, 0, 0, 0, 0, 0], 'l': [0, 0, 0, 0, 0, 0, 0, 0, 0, 0, 0, 0, 0, 0], 'm': [0, 0, 0, 0, 0, 0, 0, 0, 0, 0, 0, 0, 0, 0], 'n': [0, 0, 0, 0, 1, 1, 1, 1, 1, 1, 1, 1, 2, 2], 'o': [0, 0, 0, 0, 0, 0, 0, 0, 0, 0, 0, 0, 0, 0], 'p': [0, 0, 0, 0, 0, 0, 0, 0, 0, 0, 0, 0, 0, 0], 'q': [0, 0, 0, 0, 0, 0, 0, 0, 0, 0, 0, 0, 0, 0], 'r': [0, 0, 0, 0, 0, 0, 0, 0, 0, 0, 0, 0, 0, 0], 's': [0, 1, 1, 1, 1, 1, 1, 1, 1, 1, 1, 1, 1, 1], 't': [0, 0, 0, 0, 0, 0, 0, 0, 0, 0, 0, 0, 0, 0], 'u': [0, 0, 0, 1, 1, 1, 1, 1, 1, 1, 1, 1, 1, 1], 'v': [0, 0, 0, 0, 0, 0, 0, 0, 0, 0, 0, 0, 0, 0], 'w': [0, 0, 0, 0, 0, 0, 0, 0, 0, 0, 1, 1, 1, 1], 'x': [0, 0, 0, 0, 0, 0, 0, 0, 0, 0, 0, 0, 0, 0], 'y': [0, 0, 0, 0, 0, 0, 0, 0, 0, 0, 0, 0, 0, 0], 'z': [0, 0, 0, 0, 0, 0, 0, 0, 0, 0, 0, 0, 0, 0]}\n"
     ]
    }
   ],
   "source": [
    "#정답/ 인터넷 참고\n",
    "\n",
    "char_dict = {}\n",
    "\n",
    "for char in string.ascii_lowercase:\n",
    "    char_dict[char] = [0]\n",
    "    count = 0\n",
    "    for i in range(len(S)):\n",
    "        if S[i] == char:\n",
    "            count += 1\n",
    "        char_dict[char].append(count)\n",
    "        \n",
    "#print(char_dict)\n",
    "\n",
    "for _ in range(N):\n",
    "    a, l, r = list(input().split())\n",
    "    l, r = int(l), int(r)\n",
    "    print(char_dict[a][r+1] - char_dict[a][l])\n"
   ]
  },
  {
   "cell_type": "code",
   "execution_count": null,
   "id": "bd586ed4",
   "metadata": {},
   "outputs": [],
   "source": []
  },
  {
   "cell_type": "code",
   "execution_count": null,
   "id": "e70c2607",
   "metadata": {},
   "outputs": [],
   "source": []
  },
  {
   "cell_type": "code",
   "execution_count": null,
   "id": "6c63d6f3",
   "metadata": {},
   "outputs": [],
   "source": []
  },
  {
   "cell_type": "code",
   "execution_count": null,
   "id": "6d3cd5c9",
   "metadata": {},
   "outputs": [],
   "source": []
  },
  {
   "cell_type": "code",
   "execution_count": null,
   "id": "b0d03428",
   "metadata": {},
   "outputs": [],
   "source": []
  },
  {
   "cell_type": "code",
   "execution_count": null,
   "id": "75af3481",
   "metadata": {},
   "outputs": [],
   "source": []
  },
  {
   "cell_type": "code",
   "execution_count": null,
   "id": "5ca9ab88",
   "metadata": {},
   "outputs": [],
   "source": []
  },
  {
   "cell_type": "markdown",
   "id": "5328ec40",
   "metadata": {},
   "source": [
    "# 18단계 [그리디 알고리즘]"
   ]
  },
  {
   "cell_type": "markdown",
   "id": "3779f1e7",
   "metadata": {},
   "source": [
    "- 각 단계마다 지금 당장 가장 좋은 방법만을 선택함\n",
    "- 지금의 선택이 앞으로 남은 선택들에 어떤 영향을 끼칠지 고려하지 않는다"
   ]
  },
  {
   "cell_type": "markdown",
   "id": "d8ea26b1",
   "metadata": {},
   "source": [
    "## 1번(동전0)"
   ]
  },
  {
   "cell_type": "markdown",
   "id": "48b8c838",
   "metadata": {},
   "source": [
    "준규가 가지고 있는 동전은 총 N종류이고, 각각의 동전을 매우 많이 가지고 있다.\n",
    "\n",
    "동전을 적절히 사용해서 그 가치의 합을 K로 만들려고 한다. 이때 필요한 동전 개수의 최솟값을 구하는 프로그램을 작성하시오."
   ]
  },
  {
   "cell_type": "code",
   "execution_count": 106,
   "id": "cbc38a89",
   "metadata": {},
   "outputs": [
    {
     "name": "stdout",
     "output_type": "stream",
     "text": [
      "10 4790\n",
      "1 5 10 50 100 500 1000 5000 10000 50000\n"
     ]
    }
   ],
   "source": [
    "N,M = map(int,input().split())\n",
    "\n",
    "money = list(map(int,sys.stdin.readline().split()))"
   ]
  },
  {
   "cell_type": "code",
   "execution_count": 107,
   "id": "b0faf8db",
   "metadata": {},
   "outputs": [
    {
     "name": "stdout",
     "output_type": "stream",
     "text": [
      "12\n"
     ]
    }
   ],
   "source": [
    "#오답 -> money for loop으로 돌리니까 정답 나옴\n",
    "\n",
    "count = 0\n",
    "\n",
    "for n in range(N-1,-1,-1):\n",
    "    m = M // money[n]\n",
    "    M = M - (money[n] * m)\n",
    "    count += m \n",
    "    \n",
    "print(count)\n",
    "    "
   ]
  },
  {
   "cell_type": "code",
   "execution_count": null,
   "id": "99be9448",
   "metadata": {},
   "outputs": [],
   "source": []
  },
  {
   "cell_type": "code",
   "execution_count": 125,
   "id": "110a96b2",
   "metadata": {
    "scrolled": true
   },
   "outputs": [
    {
     "name": "stdout",
     "output_type": "stream",
     "text": [
      "10 4790\n",
      "1 5 10 50 100 500 1000 5000 10000 50000\n"
     ]
    }
   ],
   "source": [
    "N,M = map(int,input().split())\n",
    "\n",
    "#for loop 안돌리니까 계속 런타임 에러 나옴\n",
    "for _ in range(N):\n",
    "    n = int(input())\n",
    "    money.append(n)\n",
    "    \n",
    "    \n",
    "money.reverse()"
   ]
  },
  {
   "cell_type": "code",
   "execution_count": 116,
   "id": "3759b872",
   "metadata": {},
   "outputs": [
    {
     "data": {
      "text/plain": [
       "[50000, 10000, 5000, 1000, 500, 100, 50, 10, 5, 1]"
      ]
     },
     "execution_count": 116,
     "metadata": {},
     "output_type": "execute_result"
    }
   ],
   "source": [
    "money\n",
    "#sys.stdin.readline()"
   ]
  },
  {
   "cell_type": "code",
   "execution_count": 126,
   "id": "7d4e004c",
   "metadata": {
    "scrolled": true
   },
   "outputs": [
    {
     "name": "stdout",
     "output_type": "stream",
     "text": [
      "12\n"
     ]
    }
   ],
   "source": [
    "#정답\n",
    "\n",
    "count = 0\n",
    "\n",
    "for m in money:\n",
    "    count += M // m\n",
    "    M = M % m\n",
    "    if M == 0:\n",
    "        break\n",
    "            \n",
    "print(count)"
   ]
  },
  {
   "cell_type": "code",
   "execution_count": null,
   "id": "f42fe42b",
   "metadata": {},
   "outputs": [],
   "source": []
  },
  {
   "cell_type": "code",
   "execution_count": null,
   "id": "4dddd792",
   "metadata": {},
   "outputs": [],
   "source": []
  },
  {
   "cell_type": "markdown",
   "id": "d89279b3",
   "metadata": {},
   "source": [
    "## 2번(회의실 배정)"
   ]
  },
  {
   "cell_type": "markdown",
   "id": "a5426d1f",
   "metadata": {},
   "source": [
    "한 개의 회의실이 있는데 이를 사용하고자 하는 N개의 회의에 대하여 회의실 사용표를 만들려고 한다. 각 회의 I에 대해 시작시간과 끝나는 시간이 주어져 있고, 각 회의가 겹치지 않게 하면서 회의실을 사용할 수 있는 회의의 최대 개수를 찾아보자. 단, 회의는 한번 시작하면 중간에 중단될 수 없으며 한 회의가 끝나는 것과 동시에 다음 회의가 시작될 수 있다. 회의의 시작시간과 끝나는 시간이 같을 수도 있다. 이 경우에는 시작하자마자 끝나는 것으로 생각하면 된다."
   ]
  },
  {
   "cell_type": "markdown",
   "id": "dfc496ff",
   "metadata": {},
   "source": [
    "** (1,4), (5,7), (8,11), (12,14) 를 이용할 수 있다."
   ]
  },
  {
   "cell_type": "code",
   "execution_count": 203,
   "id": "b874e7a3",
   "metadata": {
    "scrolled": false
   },
   "outputs": [
    {
     "name": "stdout",
     "output_type": "stream",
     "text": [
      "11\n",
      "1 4\n",
      "0 6\n",
      "3 8\n",
      "5 9\n",
      "8 11\n",
      "2 13\n",
      "12 14\n",
      "8 12\n",
      "6 10\n",
      "5 7\n",
      "3 5\n"
     ]
    }
   ],
   "source": [
    "N = int(input())\n",
    "\n",
    "time_list = []\n",
    "for _ in range(N):\n",
    "    start,end = (map(int,input().split()))\n",
    "    time_list.append([start,end]) \n",
    "    \n",
    "# sys.stdin.readline()"
   ]
  },
  {
   "cell_type": "code",
   "execution_count": 198,
   "id": "2e5f3d14",
   "metadata": {},
   "outputs": [
    {
     "data": {
      "text/plain": [
       "list"
      ]
     },
     "execution_count": 198,
     "metadata": {},
     "output_type": "execute_result"
    }
   ],
   "source": [
    "time_list\n",
    "type(time_list)"
   ]
  },
  {
   "cell_type": "code",
   "execution_count": 205,
   "id": "7a3cecb4",
   "metadata": {},
   "outputs": [
    {
     "name": "stdout",
     "output_type": "stream",
     "text": [
      "4\n"
     ]
    }
   ],
   "source": [
    "#정답\n",
    "\n",
    "time_list = sorted(time_list, key=lambda x: (x[1],x[0]))\n",
    "# x[1] 내림차순으로 정렬하되, 같은게 있으면 x[0] 내림차순 기준으로 정렬\n",
    "# 배정하려면 시작시간 뿐만 아니라 끝나는 시간도 고려되어야\n",
    "\n",
    "#print(time_list)\n",
    "\n",
    "count = 1\n",
    "time_end = time_list[0][1]\n",
    "\n",
    "for i in range(1,N):\n",
    "    if time_end <= time_list[i][0]:\n",
    "        count += 1\n",
    "        time_end = time_list[i][1]\n",
    "\n",
    "print(count)"
   ]
  },
  {
   "cell_type": "code",
   "execution_count": null,
   "id": "95247b51",
   "metadata": {},
   "outputs": [],
   "source": [
    "# print(l)\n",
    "\n",
    "# time = []\n",
    "# time_ans = []\n",
    "\n",
    "# for i in range(1,N):\n",
    "#     time.append(l[i])\n",
    "    \n",
    "#     if l[i-1][1] <= l[i][0]:\n",
    "#         time.append(l[i+1])"
   ]
  },
  {
   "cell_type": "code",
   "execution_count": 158,
   "id": "3184b2be",
   "metadata": {},
   "outputs": [
    {
     "data": {
      "text/plain": [
       "[[1, 3], [1, 4], [2, 4], [3, 5], [5, 1]]"
      ]
     },
     "execution_count": 158,
     "metadata": {},
     "output_type": "execute_result"
    }
   ],
   "source": [
    "a = [[1,3],[2,4],[3,5],[1,4],[5,1]]\n",
    "sorted(a)"
   ]
  },
  {
   "cell_type": "code",
   "execution_count": 183,
   "id": "3c9722b4",
   "metadata": {},
   "outputs": [
    {
     "data": {
      "text/plain": [
       "NoneType"
      ]
     },
     "execution_count": 183,
     "metadata": {},
     "output_type": "execute_result"
    }
   ],
   "source": [
    "type(time_list)"
   ]
  },
  {
   "cell_type": "code",
   "execution_count": null,
   "id": "f11418c7",
   "metadata": {},
   "outputs": [],
   "source": []
  },
  {
   "cell_type": "code",
   "execution_count": null,
   "id": "a7a93a3c",
   "metadata": {},
   "outputs": [],
   "source": []
  },
  {
   "cell_type": "markdown",
   "id": "3612af9e",
   "metadata": {},
   "source": [
    "## 3번(ATM)"
   ]
  },
  {
   "cell_type": "markdown",
   "id": "4a450aee",
   "metadata": {},
   "source": [
    "인하은행에는 ATM이 1대밖에 없다. 지금 이 ATM앞에 N명의 사람들이 줄을 서있다. 사람은 1번부터 N번까지 번호가 매겨져 있으며, i번 사람이 돈을 인출하는데 걸리는 시간은 Pi분이다.\n",
    "\n",
    "사람들이 줄을 서는 순서에 따라서, 돈을 인출하는데 필요한 시간의 합이 달라지게 된다. 예를 들어, 총 5명이 있고, P1 = 3, P2 = 1, P3 = 4, P4 = 3, P5 = 2 인 경우를 생각해보자. [1, 2, 3, 4, 5] 순서로 줄을 선다면, 1번 사람은 3분만에 돈을 뽑을 수 있다. 2번 사람은 1번 사람이 돈을 뽑을 때 까지 기다려야 하기 때문에, 3+1 = 4분이 걸리게 된다. 3번 사람은 1번, 2번 사람이 돈을 뽑을 때까지 기다려야 하기 때문에, 총 3+1+4 = 8분이 필요하게 된다. 4번 사람은 3+1+4+3 = 11분, 5번 사람은 3+1+4+3+2 = 13분이 걸리게 된다. 이 경우에 각 사람이 돈을 인출하는데 필요한 시간의 합은 3+4+8+11+13 = 39분이 된다.\n",
    "\n",
    "줄을 [2, 5, 1, 4, 3] 순서로 줄을 서면, 2번 사람은 1분만에, 5번 사람은 1+2 = 3분, 1번 사람은 1+2+3 = 6분, 4번 사람은 1+2+3+3 = 9분, 3번 사람은 1+2+3+3+4 = 13분이 걸리게 된다. 각 사람이 돈을 인출하는데 필요한 시간의 합은 1+3+6+9+13 = 32분이다. 이 방법보다 더 필요한 시간의 합을 최소로 만들 수는 없다.\n",
    "\n",
    "줄을 서 있는 사람의 수 N과 각 사람이 돈을 인출하는데 걸리는 시간 Pi가 주어졌을 때, 각 사람이 돈을 인출하는데 필요한 시간의 합의 최솟값을 구하는 프로그램을 작성하시오."
   ]
  },
  {
   "cell_type": "code",
   "execution_count": 240,
   "id": "21953805",
   "metadata": {
    "scrolled": false
   },
   "outputs": [
    {
     "name": "stdout",
     "output_type": "stream",
     "text": [
      "5\n",
      "3 1 3 4 2\n"
     ]
    }
   ],
   "source": [
    "N = int(input())\n",
    "P = list(map(int,input().split()))"
   ]
  },
  {
   "cell_type": "code",
   "execution_count": 241,
   "id": "49f96402",
   "metadata": {},
   "outputs": [
    {
     "data": {
      "text/plain": [
       "[3, 1, 3, 4, 2]"
      ]
     },
     "execution_count": 241,
     "metadata": {},
     "output_type": "execute_result"
    }
   ],
   "source": [
    "P"
   ]
  },
  {
   "cell_type": "code",
   "execution_count": 247,
   "id": "a83de77c",
   "metadata": {},
   "outputs": [
    {
     "name": "stdout",
     "output_type": "stream",
     "text": [
      "32\n"
     ]
    }
   ],
   "source": [
    "#정답1\n",
    "\n",
    "P.sort()\n",
    "#print(P)\n",
    "\n",
    "P_sum = []\n",
    "P_sum.append(P[0])\n",
    "\n",
    "for i in range(1,len(P)):\n",
    "        p_sum = P_sum[i-1]+P[i]\n",
    "        P_sum.append(p_sum)\n",
    "\n",
    "print(sum(P_sum))\n",
    "        "
   ]
  },
  {
   "cell_type": "code",
   "execution_count": 217,
   "id": "50ce863e",
   "metadata": {},
   "outputs": [
    {
     "name": "stdout",
     "output_type": "stream",
     "text": [
      "32\n"
     ]
    }
   ],
   "source": [
    "#정답2 (itertools 활용)\n",
    "\n",
    "P.sort()\n",
    "\n",
    "import itertools\n",
    "\n",
    "time = list(itertools.accumulate(P))\n",
    "time_acum = list(itertools.accumulate(time))\n",
    "\n",
    "print(time_acum[-1])"
   ]
  },
  {
   "cell_type": "code",
   "execution_count": null,
   "id": "fe11db89",
   "metadata": {},
   "outputs": [],
   "source": []
  },
  {
   "cell_type": "code",
   "execution_count": null,
   "id": "52be0897",
   "metadata": {},
   "outputs": [],
   "source": []
  },
  {
   "cell_type": "markdown",
   "id": "b5a0763f",
   "metadata": {},
   "source": [
    "# 19단계 [스택]"
   ]
  },
  {
   "cell_type": "markdown",
   "id": "3467b243",
   "metadata": {},
   "source": [
    "## **1번(스택)"
   ]
  },
  {
   "cell_type": "markdown",
   "id": "5a504448",
   "metadata": {},
   "source": [
    "정수를 저장하는 스택을 구현한 다음, 입력으로 주어지는 명령을 처리하는 프로그램을 작성하시오.\n",
    "\n",
    "명령은 총 다섯 가지이다.\n",
    "\n",
    "- push X: 정수 X를 스택에 넣는 연산이다.\n",
    "- pop: 스택에서 가장 위에 있는 정수를 빼고, 그 수를 출력한다. 만약 스택에 들어있는 정수가 없는 경우에는 -1을 출력한다.\n",
    "- size: 스택에 들어있는 정수의 개수를 출력한다.\n",
    "- empty: 스택이 비어있으면 1, 아니면 0을 출력한다.\n",
    "- top: 스택의 가장 위에 있는 정수를 출력한다. 만약 스택에 들어있는 정수가 없는 경우에는 -1을 출력한다."
   ]
  },
  {
   "cell_type": "code",
   "execution_count": 256,
   "id": "49170b93",
   "metadata": {},
   "outputs": [
    {
     "name": "stdout",
     "output_type": "stream",
     "text": [
      "14\n"
     ]
    },
    {
     "ename": "IndexError",
     "evalue": "list index out of range",
     "output_type": "error",
     "traceback": [
      "\u001b[0;31m---------------------------------------------------------------------------\u001b[0m",
      "\u001b[0;31mIndexError\u001b[0m                                Traceback (most recent call last)",
      "Input \u001b[0;32mIn [256]\u001b[0m, in \u001b[0;36m<cell line: 9>\u001b[0;34m()\u001b[0m\n\u001b[1;32m      9\u001b[0m \u001b[38;5;28;01mfor\u001b[39;00m _ \u001b[38;5;129;01min\u001b[39;00m \u001b[38;5;28mrange\u001b[39m(N):\n\u001b[1;32m     10\u001b[0m     command \u001b[38;5;241m=\u001b[39m sys\u001b[38;5;241m.\u001b[39mstdin\u001b[38;5;241m.\u001b[39mreadline()\u001b[38;5;241m.\u001b[39msplit()\n\u001b[0;32m---> 12\u001b[0m     \u001b[38;5;28;01mif\u001b[39;00m \u001b[43mcommand\u001b[49m\u001b[43m[\u001b[49m\u001b[38;5;241;43m0\u001b[39;49m\u001b[43m]\u001b[49m \u001b[38;5;241m==\u001b[39m \u001b[38;5;124m'\u001b[39m\u001b[38;5;124mpush\u001b[39m\u001b[38;5;124m'\u001b[39m:\n\u001b[1;32m     13\u001b[0m         stack\u001b[38;5;241m.\u001b[39mappend(command[\u001b[38;5;241m1\u001b[39m])\n\u001b[1;32m     14\u001b[0m     \u001b[38;5;28;01melif\u001b[39;00m command[\u001b[38;5;241m0\u001b[39m] \u001b[38;5;241m==\u001b[39m \u001b[38;5;124m'\u001b[39m\u001b[38;5;124mpop\u001b[39m\u001b[38;5;124m'\u001b[39m:\n",
      "\u001b[0;31mIndexError\u001b[0m: list index out of range"
     ]
    }
   ],
   "source": [
    "#정답(top 관련 질문)\n",
    "\n",
    "import sys\n",
    "\n",
    "N = int(input())\n",
    "\n",
    "stack=[]\n",
    "\n",
    "for _ in range(N):\n",
    "    command = sys.stdin.readline().split()\n",
    "    \n",
    "    if command[0] == 'push':\n",
    "        stack.append(command[1])\n",
    "    elif command[0] == 'pop':\n",
    "        if len(stack) == 0:\n",
    "            print(-1)\n",
    "        else:\n",
    "            print(stack.pop())\n",
    "    elif command[0] == 'size':\n",
    "        print(len(stack))\n",
    "    elif command[0] == 'empty':\n",
    "        if len(stack) == 0 :\n",
    "            print(1)\n",
    "        else :\n",
    "            print(0)\n",
    "    elif command[0] == 'top':\n",
    "        if len(stack) == 0:\n",
    "            print(-1)\n",
    "        else: \n",
    "            print(stack[-1]) #stack.pop()으로 하면 안나옴"
   ]
  },
  {
   "cell_type": "code",
   "execution_count": null,
   "id": "cba8fd31",
   "metadata": {},
   "outputs": [],
   "source": []
  },
  {
   "cell_type": "code",
   "execution_count": null,
   "id": "9babee7f",
   "metadata": {},
   "outputs": [],
   "source": []
  },
  {
   "cell_type": "markdown",
   "id": "b91dabc3",
   "metadata": {},
   "source": [
    "## 2번(제로)"
   ]
  },
  {
   "cell_type": "markdown",
   "id": "f130aba4",
   "metadata": {},
   "source": [
    "나코더 기장 재민이는 동아리 회식을 준비하기 위해서 장부를 관리하는 중이다.\n",
    "\n",
    "재현이는 재민이를 도와서 돈을 관리하는 중인데, 애석하게도 항상 정신없는 재현이는 돈을 실수로 잘못 부르는 사고를 치기 일쑤였다.\n",
    "\n",
    "재현이는 잘못된 수를 부를 때마다 0을 외쳐서, 가장 최근에 재민이가 쓴 수를 지우게 시킨다.\n",
    "\n",
    "재민이는 이렇게 모든 수를 받아 적은 후 그 수의 합을 알고 싶어 한다. 재민이를 도와주자!"
   ]
  },
  {
   "cell_type": "code",
   "execution_count": 286,
   "id": "b8d65667",
   "metadata": {
    "scrolled": true
   },
   "outputs": [
    {
     "name": "stdout",
     "output_type": "stream",
     "text": [
      "10\n",
      "1\n",
      "3\n",
      "5\n",
      "4\n",
      "0\n",
      "0\n",
      "7\n",
      "0\n",
      "0\n",
      "6\n",
      "7\n"
     ]
    }
   ],
   "source": [
    "#정답\n",
    "\n",
    "N = int(input())\n",
    "\n",
    "stack = []\n",
    "for _ in range(N):\n",
    "    num = int(input())\n",
    "    if num == 0:   #숫자 넣다가 0 나오면 원래 있던 값 pop\n",
    "        stack.pop()\n",
    "    else:\n",
    "        stack.append(num)\n",
    "\n",
    "print(sum(stack))"
   ]
  },
  {
   "cell_type": "code",
   "execution_count": 285,
   "id": "9ed4c5ae",
   "metadata": {},
   "outputs": [
    {
     "name": "stdout",
     "output_type": "stream",
     "text": [
      "[]\n"
     ]
    },
    {
     "ename": "IndexError",
     "evalue": "list index out of range",
     "output_type": "error",
     "traceback": [
      "\u001b[0;31m---------------------------------------------------------------------------\u001b[0m",
      "\u001b[0;31mIndexError\u001b[0m                                Traceback (most recent call last)",
      "Input \u001b[0;32mIn [285]\u001b[0m, in \u001b[0;36m<cell line: 3>\u001b[0;34m()\u001b[0m\n\u001b[1;32m      1\u001b[0m \u001b[38;5;28mprint\u001b[39m(stack)\n\u001b[1;32m      3\u001b[0m \u001b[38;5;28;01mfor\u001b[39;00m i \u001b[38;5;129;01min\u001b[39;00m \u001b[38;5;28mrange\u001b[39m(N):\n\u001b[0;32m----> 4\u001b[0m     \u001b[38;5;28;01mif\u001b[39;00m \u001b[43mstack\u001b[49m\u001b[43m[\u001b[49m\u001b[43mi\u001b[49m\u001b[43m]\u001b[49m \u001b[38;5;241m==\u001b[39m \u001b[38;5;241m0\u001b[39m:\n\u001b[1;32m      5\u001b[0m         stack\u001b[38;5;241m.\u001b[39mpop()\n\u001b[1;32m      9\u001b[0m \u001b[38;5;28;01mfor\u001b[39;00m i \u001b[38;5;129;01min\u001b[39;00m \u001b[38;5;28mrange\u001b[39m(n):\n",
      "\u001b[0;31mIndexError\u001b[0m: list index out of range"
     ]
    }
   ],
   "source": []
  },
  {
   "cell_type": "code",
   "execution_count": null,
   "id": "2c306694",
   "metadata": {},
   "outputs": [],
   "source": []
  },
  {
   "cell_type": "code",
   "execution_count": null,
   "id": "cee106b4",
   "metadata": {},
   "outputs": [],
   "source": []
  },
  {
   "cell_type": "code",
   "execution_count": null,
   "id": "d31ba7e6",
   "metadata": {},
   "outputs": [],
   "source": []
  },
  {
   "cell_type": "code",
   "execution_count": null,
   "id": "8fae47a6",
   "metadata": {},
   "outputs": [],
   "source": []
  },
  {
   "cell_type": "code",
   "execution_count": null,
   "id": "5c80f5fe",
   "metadata": {},
   "outputs": [],
   "source": []
  },
  {
   "cell_type": "markdown",
   "id": "92fcbbdf",
   "metadata": {},
   "source": [
    "## 3번(괄호)"
   ]
  },
  {
   "cell_type": "markdown",
   "id": "f4cde75a",
   "metadata": {},
   "source": [
    "괄호 문자열(Parenthesis String, PS)은 두 개의 괄호 기호인 ‘(’ 와 ‘)’ 만으로 구성되어 있는 문자열이다. 그 중에서 괄호의 모양이 바르게 구성된 문자열을 올바른 괄호 문자열(Valid PS, VPS)이라고 부른다. 한 쌍의 괄호 기호로 된 “( )” 문자열은 기본 VPS 이라고 부른다. 만일 x 가 VPS 라면 이것을 하나의 괄호에 넣은 새로운 문자열 “(x)”도 VPS 가 된다. 그리고 두 VPS x 와 y를 접합(concatenation)시킨 새로운 문자열 xy도 VPS 가 된다. 예를 들어 “(())()”와 “((()))” 는 VPS 이지만 “(()(”, “(())()))” , 그리고 “(()” 는 모두 VPS 가 아닌 문자열이다. \n",
    "\n",
    "여러분은 입력으로 주어진 괄호 문자열이 VPS 인지 아닌지를 판단해서 그 결과를 YES 와 NO 로 나타내어야 한다. "
   ]
  },
  {
   "cell_type": "code",
   "execution_count": null,
   "id": "bf88694d",
   "metadata": {},
   "outputs": [],
   "source": [
    "# 앞 :( 뒤 :)"
   ]
  },
  {
   "cell_type": "code",
   "execution_count": 310,
   "id": "f70ffeea",
   "metadata": {
    "scrolled": true
   },
   "outputs": [
    {
     "name": "stdout",
     "output_type": "stream",
     "text": [
      "5\n"
     ]
    }
   ],
   "source": [
    "#정답(스택 미사용)\n",
    "\n",
    "import sys\n",
    "\n",
    "input = sys.stdin.readline\n",
    "N = int(input())\n",
    "\n",
    "for _ in range(N):\n",
    "    PS = input()\n",
    "    ans = 0\n",
    "    \n",
    "    for i in PS:\n",
    "        if i == '(':\n",
    "            ans += 1\n",
    "        elif i == ')':  #elif로 구문 안걸어주니까 틀림/처음에는 else로 걸었음\n",
    "            ans -= 1\n",
    "     \n",
    "        if ans < 0:\n",
    "            break\n",
    "    \n",
    "    if ans == 0:\n",
    "        print('YES')\n",
    "\n",
    "    else: \n",
    "        print('NO')\n",
    "    \n",
    "#len(PS)\n",
    "\n",
    "#sys.stdin.readline()"
   ]
  },
  {
   "cell_type": "code",
   "execution_count": 343,
   "id": "733c2c25",
   "metadata": {},
   "outputs": [
    {
     "name": "stdout",
     "output_type": "stream",
     "text": [
      "YES\n",
      "YES\n"
     ]
    }
   ],
   "source": [
    "# 스택 사용 버전\n",
    "# 정답 (import sys로 PS값 넣으면 오류)\n",
    "\n",
    "N = int(input())\n",
    "\n",
    "for _ in range(N):\n",
    "    PS = input()\n",
    "    stack = []    #stack은 for loop안에서 돌려줘야 (안그러면 앞에서 돌린 괄호 남아있음)\n",
    "    \n",
    "    for i in PS:\n",
    "        if i == '(':\n",
    "            stack.append('(')\n",
    "        else:\n",
    "            if len(stack) == 0:\n",
    "                stack.append(')')\n",
    "                break\n",
    "            else:\n",
    "                stack.pop()\n",
    "                \n",
    "    if len(stack) == 0:\n",
    "        print('YES')\n",
    "    else :\n",
    "        print('NO')\n",
    "\n",
    "\n",
    "        "
   ]
  },
  {
   "cell_type": "code",
   "execution_count": 344,
   "id": "e59e9183",
   "metadata": {},
   "outputs": [],
   "source": [
    "PS = sys.stdin.readline()"
   ]
  },
  {
   "cell_type": "code",
   "execution_count": null,
   "id": "a7f9e306",
   "metadata": {},
   "outputs": [],
   "source": []
  },
  {
   "cell_type": "code",
   "execution_count": null,
   "id": "87490b3a",
   "metadata": {},
   "outputs": [],
   "source": []
  },
  {
   "cell_type": "code",
   "execution_count": null,
   "id": "e518c87c",
   "metadata": {},
   "outputs": [],
   "source": []
  },
  {
   "cell_type": "markdown",
   "id": "4c167d00",
   "metadata": {},
   "source": [
    "# 20단계[큐,덱]"
   ]
  },
  {
   "cell_type": "markdown",
   "id": "7e1d3212",
   "metadata": {},
   "source": [
    "## 2번(카드2)"
   ]
  },
  {
   "cell_type": "markdown",
   "id": "91005d18",
   "metadata": {},
   "source": [
    "N장의 카드가 있다. 각각의 카드는 차례로 1부터 N까지의 번호가 붙어 있으며, 1번 카드가 제일 위에, N번 카드가 제일 아래인 상태로 순서대로 카드가 놓여 있다.\n",
    "\n",
    "이제 다음과 같은 동작을 카드가 한 장 남을 때까지 반복하게 된다. 우선, 제일 위에 있는 카드를 바닥에 버린다. 그 다음, 제일 위에 있는 카드를 제일 아래에 있는 카드 밑으로 옮긴다.\n",
    "\n",
    "예를 들어 N=4인 경우를 생각해 보자. 카드는 제일 위에서부터 1234 의 순서로 놓여있다. 1을 버리면 234가 남는다. 여기서 2를 제일 아래로 옮기면 342가 된다. 3을 버리면 42가 되고, 4를 밑으로 옮기면 24가 된다. 마지막으로 2를 버리고 나면, 남는 카드는 4가 된다.\n",
    "\n",
    "N이 주어졌을 때, 제일 마지막에 남게 되는 카드를 구하는 프로그램을 작성하시오."
   ]
  },
  {
   "cell_type": "code",
   "execution_count": 387,
   "id": "78e667e8",
   "metadata": {
    "scrolled": true
   },
   "outputs": [
    {
     "name": "stdout",
     "output_type": "stream",
     "text": [
      "6\n",
      "deque([1, 2, 3, 4, 5, 6])\n"
     ]
    }
   ],
   "source": [
    "from collections import deque\n",
    "\n",
    "N = int(input())\n",
    "\n",
    "card = deque()\n",
    "\n",
    "for n in range(1,N+1):\n",
    "    card.append(n)\n",
    "\n",
    "print(card)"
   ]
  },
  {
   "cell_type": "code",
   "execution_count": 379,
   "id": "06f70894",
   "metadata": {
    "scrolled": true
   },
   "outputs": [
    {
     "name": "stdout",
     "output_type": "stream",
     "text": [
      "4\n"
     ]
    }
   ],
   "source": [
    "#rotate 활용\n",
    "\n",
    "while len(card) > 1:\n",
    "    card.popleft()\n",
    "    card.rotate(-1)\n",
    "    \n",
    "print(card[0])    "
   ]
  },
  {
   "cell_type": "code",
   "execution_count": 389,
   "id": "4ffcfc7c",
   "metadata": {},
   "outputs": [
    {
     "name": "stdout",
     "output_type": "stream",
     "text": [
      "4\n"
     ]
    }
   ],
   "source": [
    "# 정답(덱 활용)\n",
    "\n",
    "while len(card) > 1 :\n",
    "    card.popleft()\n",
    "    card.append(card[0])\n",
    "    del card[0]\n",
    "\n",
    "print(card[0])\n",
    "\n",
    "#   queue.popleft()\n",
    "#   queue.append(queue.popleft()) \n",
    "#   더 빠른 방법 => popleft해서 그걸 바로 붙임"
   ]
  },
  {
   "cell_type": "code",
   "execution_count": null,
   "id": "b86af119",
   "metadata": {},
   "outputs": [],
   "source": []
  },
  {
   "cell_type": "code",
   "execution_count": null,
   "id": "47350b3d",
   "metadata": {},
   "outputs": [],
   "source": []
  },
  {
   "cell_type": "markdown",
   "id": "0c4393eb",
   "metadata": {},
   "source": [
    "## 3번(요세푸스 문제)"
   ]
  },
  {
   "cell_type": "markdown",
   "id": "e2890a56",
   "metadata": {},
   "source": [
    "요세푸스 문제는 다음과 같다.\n",
    "\n",
    "1번부터 N번까지 N명의 사람이 원을 이루면서 앉아있고, 양의 정수 K(≤ N)가 주어진다. 이제 순서대로 K번째 사람을 제거한다. 한 사람이 제거되면 남은 사람들로 이루어진 원을 따라 이 과정을 계속해 나간다. 이 과정은 N명의 사람이 모두 제거될 때까지 계속된다. 원에서 사람들이 제거되는 순서를 (N, K)-요세푸스 순열이라고 한다. 예를 들어 (7, 3)-요세푸스 순열은 <3, 6, 2, 7, 5, 1, 4>이다.\n",
    "\n",
    "N과 K가 주어지면 (N, K)-요세푸스 순열을 구하는 프로그램을 작성하시오."
   ]
  },
  {
   "cell_type": "code",
   "execution_count": 36,
   "id": "25afd4ed",
   "metadata": {
    "scrolled": false
   },
   "outputs": [
    {
     "name": "stdout",
     "output_type": "stream",
     "text": [
      "7 3\n"
     ]
    }
   ],
   "source": [
    "from collections import deque\n",
    "\n",
    "N,K = map(int,input().split())\n",
    "\n",
    "num = deque()\n",
    "\n",
    "for n in range(1,N+1):\n",
    "    num.append(n)\n",
    "\n",
    "#print(num)"
   ]
  },
  {
   "cell_type": "code",
   "execution_count": 37,
   "id": "8f65ab52",
   "metadata": {},
   "outputs": [
    {
     "name": "stdout",
     "output_type": "stream",
     "text": [
      "<3, 6, 2, 7, 5, 1, 4>\n"
     ]
    }
   ],
   "source": [
    "#정답\n",
    "\n",
    "ans = []\n",
    "\n",
    "while num:\n",
    "    for k in range(K-1):\n",
    "        num.append(num.popleft())\n",
    "    ans.append(num.popleft())\n",
    "\n",
    "print('<',end='')\n",
    "print(*ans,sep=', ',end='')\n",
    "print('>')  "
   ]
  },
  {
   "cell_type": "code",
   "execution_count": null,
   "id": "a4011f37",
   "metadata": {},
   "outputs": [],
   "source": [
    "#시간초과 / if로 한 번 더 조건 걸어서 그런듯\n",
    "\n",
    "from collections import deque\n",
    "\n",
    "N,K = map(int,input().split())\n",
    "\n",
    "num = deque()\n",
    "\n",
    "for n in range(1,N+1):\n",
    "    num.append(n)\n",
    "\n",
    "ans = []\n",
    "\n",
    "while num:\n",
    "    for k in range(K-1):\n",
    "        a = num.popleft()\n",
    "        num.append(a)\n",
    "        if k == K-2:\n",
    "            b = num.popleft()\n",
    "            ans.append(b)\n",
    "\n",
    "print('<',end='')\n",
    "print(*ans,sep=', ',end='')\n",
    "print('>')  "
   ]
  },
  {
   "cell_type": "code",
   "execution_count": null,
   "id": "b4dc5595",
   "metadata": {},
   "outputs": [],
   "source": []
  },
  {
   "cell_type": "markdown",
   "id": "39169f2f",
   "metadata": {},
   "source": [
    "## 5번(덱)"
   ]
  },
  {
   "cell_type": "code",
   "execution_count": 43,
   "id": "e8f3c977",
   "metadata": {
    "scrolled": false
   },
   "outputs": [
    {
     "name": "stdout",
     "output_type": "stream",
     "text": [
      "2\n"
     ]
    }
   ],
   "source": [
    "import sys\n",
    "from collections import deque\n",
    "\n",
    "N = int(input())\n",
    "\n",
    "Q = deque()\n",
    "   "
   ]
  },
  {
   "cell_type": "code",
   "execution_count": 44,
   "id": "dc3a206c",
   "metadata": {},
   "outputs": [
    {
     "ename": "IndexError",
     "evalue": "list index out of range",
     "output_type": "error",
     "traceback": [
      "\u001b[0;31m---------------------------------------------------------------------------\u001b[0m",
      "\u001b[0;31mIndexError\u001b[0m                                Traceback (most recent call last)",
      "Input \u001b[0;32mIn [44]\u001b[0m, in \u001b[0;36m<cell line: 4>\u001b[0;34m()\u001b[0m\n\u001b[1;32m      4\u001b[0m \u001b[38;5;28;01mfor\u001b[39;00m _ \u001b[38;5;129;01min\u001b[39;00m \u001b[38;5;28mrange\u001b[39m(N):\n\u001b[1;32m      5\u001b[0m     command \u001b[38;5;241m=\u001b[39m sys\u001b[38;5;241m.\u001b[39mstdin\u001b[38;5;241m.\u001b[39mreadline()\u001b[38;5;241m.\u001b[39msplit() \n\u001b[0;32m----> 6\u001b[0m     \u001b[38;5;28;01mif\u001b[39;00m \u001b[43mcommand\u001b[49m\u001b[43m[\u001b[49m\u001b[38;5;241;43m0\u001b[39;49m\u001b[43m]\u001b[49m \u001b[38;5;241m==\u001b[39m \u001b[38;5;124m'\u001b[39m\u001b[38;5;124mpush_front\u001b[39m\u001b[38;5;124m'\u001b[39m:\n\u001b[1;32m      7\u001b[0m         Q\u001b[38;5;241m.\u001b[39mappend(command[\u001b[38;5;241m1\u001b[39m])\n\u001b[1;32m      8\u001b[0m     \u001b[38;5;28;01melif\u001b[39;00m command[\u001b[38;5;241m0\u001b[39m] \u001b[38;5;241m==\u001b[39m \u001b[38;5;124m'\u001b[39m\u001b[38;5;124mpush_back\u001b[39m\u001b[38;5;124m'\u001b[39m:\n",
      "\u001b[0;31mIndexError\u001b[0m: list index out of range"
     ]
    }
   ],
   "source": [
    "#정답\n",
    "\n",
    "\n",
    "for _ in range(N):\n",
    "    command = sys.stdin.readline().split() \n",
    "    if command[0] == 'push_front':\n",
    "        Q.append(command[1])\n",
    "    elif command[0] == 'push_back':\n",
    "        Q.append(command[1])\n",
    "    \n",
    "    elif command[0] == 'pop_front':\n",
    "        if Q:   #Q있는 경우\n",
    "            print(Q.popleft())\n",
    "        else: \n",
    "            print(-1)\n",
    "    \n",
    "    elif command[0] == 'pop_back':\n",
    "        if Q:   #Q있는 경우\n",
    "            print(Q.popright())\n",
    "        else: \n",
    "            print(-1)\n",
    "       \n",
    "    elif command[0] == 'size':\n",
    "        print(len(Q))\n",
    "    elif command[0] == 'empty':\n",
    "        if len(Q) == 0 :\n",
    "            print(1)\n",
    "        else :\n",
    "            print(0)\n",
    "            \n",
    "    elif command[0] == 'front':\n",
    "        if len(Q) == 0:\n",
    "            print(-1)\n",
    "        else: \n",
    "            print(Q[0])\n",
    "    elif command[0] == 'back':\n",
    "        if len(Q) == 0:\n",
    "            print(-1)\n",
    "        else: \n",
    "            print(Q[-1]) "
   ]
  },
  {
   "cell_type": "code",
   "execution_count": null,
   "id": "608304b2",
   "metadata": {},
   "outputs": [],
   "source": []
  },
  {
   "cell_type": "code",
   "execution_count": null,
   "id": "6e338c70",
   "metadata": {},
   "outputs": [],
   "source": []
  },
  {
   "cell_type": "code",
   "execution_count": null,
   "id": "e706225f",
   "metadata": {},
   "outputs": [],
   "source": []
  }
 ],
 "metadata": {
  "kernelspec": {
   "display_name": "Python 3 (ipykernel)",
   "language": "python",
   "name": "python3"
  },
  "language_info": {
   "codemirror_mode": {
    "name": "ipython",
    "version": 3
   },
   "file_extension": ".py",
   "mimetype": "text/x-python",
   "name": "python",
   "nbconvert_exporter": "python",
   "pygments_lexer": "ipython3",
   "version": "3.9.12"
  }
 },
 "nbformat": 4,
 "nbformat_minor": 5
}
