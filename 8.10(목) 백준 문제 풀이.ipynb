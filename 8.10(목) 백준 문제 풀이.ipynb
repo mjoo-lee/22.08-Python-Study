{
 "cells": [
  {
   "cell_type": "markdown",
   "id": "9e6562db",
   "metadata": {},
   "source": [
    "# 4단계 -4번(평균)"
   ]
  },
  {
   "cell_type": "code",
   "execution_count": 294,
   "id": "05e9cfd8",
   "metadata": {
    "scrolled": true
   },
   "outputs": [
    {
     "name": "stdout",
     "output_type": "stream",
     "text": [
      "4\n",
      "[1, 100, 100, 100]\n"
     ]
    }
   ],
   "source": [
    "# 입력\n",
    "# 첫째줄: 과목 수 (N개)\n",
    "# 둘째줄 : 현재 성적\n",
    "score = [1,100,100,100]\n",
    "\n",
    "print(len(score)) \n",
    "print(score)"
   ]
  },
  {
   "cell_type": "code",
   "execution_count": 295,
   "id": "0463a7c0",
   "metadata": {},
   "outputs": [
    {
     "name": "stdout",
     "output_type": "stream",
     "text": [
      "[1.0, 100.0, 100.0, 100.0]\n"
     ]
    },
    {
     "data": {
      "text/plain": [
       "75.25"
      ]
     },
     "execution_count": 295,
     "metadata": {},
     "output_type": "execute_result"
    }
   ],
   "source": [
    "# 출력\n",
    "# 새로운 평균 출력 \n",
    "\n",
    "new_scores = []\n",
    "\n",
    "for i in range(len(score)):\n",
    "        new_score = score[i] / max(score) * 100\n",
    "        new_scores.append(new_score)\n",
    "    \n",
    "print(new_scores)\n",
    "avg = sum(new_scores) / len(score)\n",
    "avg"
   ]
  },
  {
   "cell_type": "code",
   "execution_count": null,
   "id": "04cfcacc",
   "metadata": {},
   "outputs": [],
   "source": []
  },
  {
   "cell_type": "code",
   "execution_count": null,
   "id": "00766c28",
   "metadata": {},
   "outputs": [],
   "source": []
  },
  {
   "cell_type": "code",
   "execution_count": null,
   "id": "3cf445e5",
   "metadata": {},
   "outputs": [],
   "source": []
  },
  {
   "cell_type": "markdown",
   "id": "98cc512c",
   "metadata": {},
   "source": [
    "# 4단계 - 5번(OX퀴즈)"
   ]
  },
  {
   "cell_type": "code",
   "execution_count": 311,
   "id": "a5e12de2",
   "metadata": {},
   "outputs": [
    {
     "name": "stdout",
     "output_type": "stream",
     "text": [
      "5\n",
      "OOXXOXXOOO\n",
      "OOXXOOXXOO\n",
      "OXOXOXOXOXOXOX\n",
      "OOOOOOOOOO\n",
      "OOOOXOOOOXOOOOX\n"
     ]
    }
   ],
   "source": [
    "# 연속으로 맞으면 +1점 올라감 \n",
    "case = ['OOXXOXXOOO',\n",
    "'OOXXOOXXOO',\n",
    "'OXOXOXOXOXOXOX',\n",
    "'OOOOOOOOOO',\n",
    "'OOOOXOOOOXOOOOX']\n",
    "\n",
    "print(len(case))\n",
    "\n",
    "print(*case, sep='\\n')\n",
    "# * 언패킹 오퍼레이터 = 리스트 내 원소 하나씩 관리"
   ]
  },
  {
   "cell_type": "code",
   "execution_count": 350,
   "id": "b8c7e62e",
   "metadata": {},
   "outputs": [
    {
     "data": {
      "text/plain": [
       "65"
      ]
     },
     "execution_count": 350,
     "metadata": {},
     "output_type": "execute_result"
    }
   ],
   "source": [
    "score = 0\n",
    " \n",
    "# 맞은거는 우선 다 1점으로 깔아 줌\n",
    "for i in range(len(case)):\n",
    "    n = case[i]\n",
    "    for j in range(len(n)):\n",
    "        if case[i][j] == 'O':\n",
    "            score += 1\n",
    "        else : \n",
    "            score == 0\n",
    "    \n",
    "\n",
    "for i in range(len(case)):\n",
    "    n = case[i]\n",
    "    for j in range(len(n)-1):\n",
    "        if case[i][j] == 'O' and case[i][j] == case[i][j+1]:\n",
    "            score += 1\n",
    "            j += 1\n",
    "        \n",
    "        else: score +=0\n",
    "    \n",
    "    \n",
    "\n",
    "    \n",
    "score"
   ]
  },
  {
   "cell_type": "code",
   "execution_count": 348,
   "id": "dc302ac5",
   "metadata": {},
   "outputs": [
    {
     "data": {
      "text/plain": [
       "'OOOOOOOOOO'"
      ]
     },
     "execution_count": 348,
     "metadata": {},
     "output_type": "execute_result"
    }
   ],
   "source": [
    "case[3]"
   ]
  },
  {
   "cell_type": "code",
   "execution_count": 342,
   "id": "d24c9846",
   "metadata": {},
   "outputs": [
    {
     "data": {
      "text/plain": [
       "10"
      ]
     },
     "execution_count": 342,
     "metadata": {},
     "output_type": "execute_result"
    }
   ],
   "source": [
    "n = case[0]\n",
    "n\n",
    "len(n)"
   ]
  },
  {
   "cell_type": "code",
   "execution_count": null,
   "id": "b583948f",
   "metadata": {},
   "outputs": [],
   "source": []
  },
  {
   "cell_type": "code",
   "execution_count": null,
   "id": "ecec3045",
   "metadata": {},
   "outputs": [],
   "source": []
  },
  {
   "cell_type": "markdown",
   "id": "0d5e8ade",
   "metadata": {},
   "source": [
    "# * 4단계 - 6번(평균은 넘겠지)"
   ]
  },
  {
   "cell_type": "code",
   "execution_count": 83,
   "id": "5ca2d2e5",
   "metadata": {},
   "outputs": [],
   "source": [
    "#입력\n",
    "import random \n",
    "\n",
    "scores = []\n",
    "\n",
    "for i in range(random.randint(1,10)):\n",
    "    score = random.randint(0,100)\n",
    "    scores.append(score)\n",
    "    \n",
    "# 랜덤값 받음"
   ]
  },
  {
   "cell_type": "code",
   "execution_count": 84,
   "id": "7f5a6b08",
   "metadata": {},
   "outputs": [
    {
     "name": "stdout",
     "output_type": "stream",
     "text": [
      "7\n"
     ]
    },
    {
     "data": {
      "text/plain": [
       "[17, 0, 81, 79, 66, 94, 86]"
      ]
     },
     "execution_count": 84,
     "metadata": {},
     "output_type": "execute_result"
    }
   ],
   "source": [
    "#확인\n",
    "print(len(scores))\n",
    "scores"
   ]
  },
  {
   "cell_type": "code",
   "execution_count": 85,
   "id": "795bc239",
   "metadata": {},
   "outputs": [
    {
     "name": "stdout",
     "output_type": "stream",
     "text": [
      "71.429%\n"
     ]
    }
   ],
   "source": [
    "#출력\n",
    "average = sum(scores) / len(scores)   #평균값 구하고\n",
    "\n",
    "count = 0    #cnt 0으로 셋팅\n",
    "\n",
    "for i in range(len(scores)):\n",
    "    if scores[i] > average: \n",
    "        count += 1         #scores list내 원소 중, 평균값 이상일 경우 cnt+1 \n",
    "        \n",
    "    \n",
    "#최종 답안    \n",
    "ans = (count / len(scores)) * 100 \n",
    "print(\"%0.3f%%\" %ans)\n",
    "    "
   ]
  },
  {
   "cell_type": "code",
   "execution_count": null,
   "id": "c691e55a",
   "metadata": {},
   "outputs": [],
   "source": []
  },
  {
   "cell_type": "code",
   "execution_count": null,
   "id": "b0523350",
   "metadata": {},
   "outputs": [],
   "source": []
  },
  {
   "cell_type": "code",
   "execution_count": null,
   "id": "9c73f6f2",
   "metadata": {},
   "outputs": [],
   "source": []
  },
  {
   "cell_type": "markdown",
   "id": "5050befe",
   "metadata": {},
   "source": [
    "# 5단계 - 1번(정수 N개의 합)"
   ]
  },
  {
   "cell_type": "code",
   "execution_count": 604,
   "id": "12f6e1bd",
   "metadata": {},
   "outputs": [],
   "source": [
    "import random\n",
    "\n",
    "a = []\n",
    "\n",
    "for i in range (random.randint(1,30)):\n",
    "    a.append(random.randint(1,100))\n",
    "\n",
    "def solve(a:list) -> int: \n",
    "    return sum (a)"
   ]
  },
  {
   "cell_type": "code",
   "execution_count": 605,
   "id": "11548a69",
   "metadata": {},
   "outputs": [
    {
     "data": {
      "text/plain": [
       "[78, 28, 63, 14, 41, 51, 6, 28, 16, 63, 30, 18, 71]"
      ]
     },
     "execution_count": 605,
     "metadata": {},
     "output_type": "execute_result"
    }
   ],
   "source": [
    "a"
   ]
  },
  {
   "cell_type": "code",
   "execution_count": 606,
   "id": "395dd10c",
   "metadata": {
    "scrolled": true
   },
   "outputs": [
    {
     "data": {
      "text/plain": [
       "507"
      ]
     },
     "execution_count": 606,
     "metadata": {},
     "output_type": "execute_result"
    }
   ],
   "source": [
    "solve(a)"
   ]
  },
  {
   "cell_type": "code",
   "execution_count": null,
   "id": "9c17cef8",
   "metadata": {},
   "outputs": [],
   "source": []
  },
  {
   "cell_type": "code",
   "execution_count": null,
   "id": "6c7983e0",
   "metadata": {},
   "outputs": [],
   "source": []
  },
  {
   "cell_type": "markdown",
   "id": "08470ca6",
   "metadata": {},
   "source": [
    "# 5단계 - 2번(셀프 넘버)"
   ]
  },
  {
   "cell_type": "code",
   "execution_count": null,
   "id": "083893f4",
   "metadata": {},
   "outputs": [],
   "source": [
    "# 셀프 넘버 \n",
    "# n + "
   ]
  },
  {
   "cell_type": "code",
   "execution_count": 151,
   "id": "bd858bdd",
   "metadata": {},
   "outputs": [
    {
     "ename": "SyntaxError",
     "evalue": "cannot assign to operator (4121093367.py, line 3)",
     "output_type": "error",
     "traceback": [
      "\u001b[0;36m  Input \u001b[0;32mIn [151]\u001b[0;36m\u001b[0m\n\u001b[0;31m    n + n//10^2 + n//10^1 + n % 10 = not_self.append()\u001b[0m\n\u001b[0m    ^\u001b[0m\n\u001b[0;31mSyntaxError\u001b[0m\u001b[0;31m:\u001b[0m cannot assign to operator\n"
     ]
    }
   ],
   "source": [
    "not_self = []\n",
    "\n",
    "n + n//10^2 + n//10^1 + n % 10 = not_self.append()\n",
    "\n",
    "print range(1,10000) "
   ]
  },
  {
   "cell_type": "code",
   "execution_count": null,
   "id": "b6af537b",
   "metadata": {},
   "outputs": [],
   "source": []
  },
  {
   "cell_type": "code",
   "execution_count": 153,
   "id": "206c9505",
   "metadata": {},
   "outputs": [],
   "source": [
    "a = range(1,10000)"
   ]
  },
  {
   "cell_type": "code",
   "execution_count": 155,
   "id": "a8474def",
   "metadata": {},
   "outputs": [
    {
     "ename": "TypeError",
     "evalue": "unsupported operand type(s) for -: 'range' and 'int'",
     "output_type": "error",
     "traceback": [
      "\u001b[0;31m---------------------------------------------------------------------------\u001b[0m",
      "\u001b[0;31mTypeError\u001b[0m                                 Traceback (most recent call last)",
      "Input \u001b[0;32mIn [155]\u001b[0m, in \u001b[0;36m<cell line: 1>\u001b[0;34m()\u001b[0m\n\u001b[0;32m----> 1\u001b[0m \u001b[43ma\u001b[49m\u001b[43m \u001b[49m\u001b[38;5;241;43m-\u001b[39;49m\u001b[43m \u001b[49m\u001b[38;5;241;43m2\u001b[39;49m\n",
      "\u001b[0;31mTypeError\u001b[0m: unsupported operand type(s) for -: 'range' and 'int'"
     ]
    }
   ],
   "source": [
    "a - 2"
   ]
  },
  {
   "cell_type": "code",
   "execution_count": null,
   "id": "072bee31",
   "metadata": {},
   "outputs": [],
   "source": []
  },
  {
   "cell_type": "code",
   "execution_count": null,
   "id": "aca98490",
   "metadata": {},
   "outputs": [],
   "source": [
    "All = set(i for i in range(1,10001))\n",
    "S = set()\n",
    "\n",
    "for i in range(1,10001):\n",
    "    for j in str(i):\n",
    "        i += int(j)\n",
    "    S.add(i)\n",
    "\n",
    "    for i in sorted(All - S):\n",
    "        print(i)"
   ]
  },
  {
   "cell_type": "code",
   "execution_count": null,
   "id": "333ba99c",
   "metadata": {},
   "outputs": [],
   "source": []
  },
  {
   "cell_type": "code",
   "execution_count": null,
   "id": "372c3948",
   "metadata": {},
   "outputs": [],
   "source": []
  },
  {
   "cell_type": "markdown",
   "id": "271a568b",
   "metadata": {},
   "source": [
    "# 5단계 - 3번 (한수)"
   ]
  },
  {
   "cell_type": "code",
   "execution_count": 482,
   "id": "3aee7216",
   "metadata": {},
   "outputs": [],
   "source": [
    "a = '50034'"
   ]
  },
  {
   "cell_type": "code",
   "execution_count": 486,
   "id": "867c9d47",
   "metadata": {},
   "outputs": [
    {
     "data": {
      "text/plain": [
       "'3'"
      ]
     },
     "execution_count": 486,
     "metadata": {},
     "output_type": "execute_result"
    }
   ],
   "source": [
    "a[0][3]"
   ]
  },
  {
   "cell_type": "code",
   "execution_count": 525,
   "id": "6f0ba69a",
   "metadata": {
    "scrolled": true
   },
   "outputs": [
    {
     "name": "stdout",
     "output_type": "stream",
     "text": [
      "129\n"
     ]
    }
   ],
   "source": [
    "# 1~1000 자연수 중, 각 자리값이 등차수열인 수 구하기\n",
    "\n",
    "# 한 자리 : 1~9 전체\n",
    "# 두 자리 : 10~99 전체\n",
    "# 세 자리: [0] - [1] = [1] - [2]\n",
    "\n",
    "import random\n",
    "\n",
    "input = int(random.randint(1,1001))\n",
    "\n",
    "def hansu(num):\n",
    "   \n",
    "    if len(str(num)) <= 2:\n",
    "        print (num)\n",
    "    \n",
    "    else :\n",
    "        cnt = 0\n",
    "        for num in range(100,int(num)+1):\n",
    "            if int(str(num)[0]) - int(str(num)[1]) == int(str(num)[1]) - int(str(num)[2]):\n",
    "                cnt += 1\n",
    "        \n",
    "        print (99 + cnt)\n",
    "    \n",
    "hansu(input)\n",
    "                "
   ]
  },
  {
   "cell_type": "code",
   "execution_count": null,
   "id": "2541a2ea",
   "metadata": {},
   "outputs": [],
   "source": []
  },
  {
   "cell_type": "code",
   "execution_count": null,
   "id": "f355dfc1",
   "metadata": {},
   "outputs": [],
   "source": []
  },
  {
   "cell_type": "code",
   "execution_count": null,
   "id": "3cb53e65",
   "metadata": {},
   "outputs": [],
   "source": []
  },
  {
   "cell_type": "markdown",
   "id": "12e334d8",
   "metadata": {},
   "source": [
    "# 6단계 - 8번 (다이얼)"
   ]
  },
  {
   "cell_type": "code",
   "execution_count": null,
   "id": "7af49c14",
   "metadata": {},
   "outputs": [],
   "source": [
    "# 다이얼 전화기 돌리기 \n",
    "\n",
    "#입력 \n",
    "#첫째 줄에 알파벳 대문자 (2 < 단어 길이 < 15)\n",
    " "
   ]
  },
  {
   "cell_type": "code",
   "execution_count": null,
   "id": "7b77c754",
   "metadata": {},
   "outputs": [],
   "source": [
    "#출력 \n",
    "#첫째 줄 다이얼 걸기 위해 필요한 최소 시간 출력"
   ]
  },
  {
   "cell_type": "code",
   "execution_count": null,
   "id": "541d7645",
   "metadata": {},
   "outputs": [],
   "source": []
  },
  {
   "cell_type": "markdown",
   "id": "1f89c2bb",
   "metadata": {},
   "source": [
    "# 6단계 - 9번 (크로아티아 알파벳)"
   ]
  },
  {
   "cell_type": "code",
   "execution_count": 233,
   "id": "94e95b47",
   "metadata": {},
   "outputs": [],
   "source": [
    "C = ['c=','c-','dz=','d-','lj','nj','s=','z=']"
   ]
  },
  {
   "cell_type": "code",
   "execution_count": null,
   "id": "343b6239",
   "metadata": {},
   "outputs": [],
   "source": []
  },
  {
   "cell_type": "code",
   "execution_count": null,
   "id": "1b28fa3e",
   "metadata": {},
   "outputs": [],
   "source": []
  },
  {
   "cell_type": "code",
   "execution_count": null,
   "id": "698657b4",
   "metadata": {},
   "outputs": [],
   "source": []
  },
  {
   "cell_type": "code",
   "execution_count": 259,
   "id": "89da06d4",
   "metadata": {},
   "outputs": [
    {
     "name": "stdout",
     "output_type": "stream",
     "text": [
      "6\n"
     ]
    }
   ],
   "source": [
    "a = str('ljes=njak')\n",
    "\n",
    "croatia = []\n",
    "\n",
    "for i in range(len(C)):\n",
    "    if C[i] in a:\n",
    "        croatia.append(C[i])\n",
    "    \n",
    "\n",
    "print (len(a) - len(croatia))\n",
    "        \n",
    "# c=c= 나오면 중복값이라 안돼    \n"
   ]
  },
  {
   "cell_type": "code",
   "execution_count": 258,
   "id": "5ffdc311",
   "metadata": {},
   "outputs": [
    {
     "ename": "IndexError",
     "evalue": "list index out of range",
     "output_type": "error",
     "traceback": [
      "\u001b[0;31m---------------------------------------------------------------------------\u001b[0m",
      "\u001b[0;31mIndexError\u001b[0m                                Traceback (most recent call last)",
      "Input \u001b[0;32mIn [258]\u001b[0m, in \u001b[0;36m<cell line: 1>\u001b[0;34m()\u001b[0m\n\u001b[1;32m      1\u001b[0m \u001b[38;5;28;01mfor\u001b[39;00m i \u001b[38;5;129;01min\u001b[39;00m \u001b[38;5;28mrange\u001b[39m(\u001b[38;5;28mlen\u001b[39m(C)):\n\u001b[1;32m      2\u001b[0m     \u001b[38;5;28;01mif\u001b[39;00m C[i] \u001b[38;5;129;01min\u001b[39;00m a:\n\u001b[0;32m----> 3\u001b[0m         croatia[i] \u001b[38;5;241m+\u001b[39m\u001b[38;5;241m=\u001b[39m \u001b[38;5;241m1\u001b[39m\n\u001b[1;32m      5\u001b[0m \u001b[38;5;28mprint\u001b[39m (croatia)\n",
      "\u001b[0;31mIndexError\u001b[0m: list index out of range"
     ]
    }
   ],
   "source": [
    "\n",
    "for i in range(len(C)):\n",
    "    if C[i] in a:\n",
    "        croatia[i] += 1\n",
    "    \n",
    "print (croatia)\n",
    "    "
   ]
  },
  {
   "cell_type": "code",
   "execution_count": null,
   "id": "53594472",
   "metadata": {},
   "outputs": [],
   "source": []
  },
  {
   "cell_type": "markdown",
   "id": "540e7936",
   "metadata": {},
   "source": [
    "# * 6단계 - 10번 (그룹 단어 체커)"
   ]
  },
  {
   "cell_type": "code",
   "execution_count": 106,
   "id": "e74f79d0",
   "metadata": {},
   "outputs": [],
   "source": [
    "#입력\n",
    "#첫째줄 : 단어 개수\n",
    "#둘째줄 : n개 줄에 단어 들어옴 (소문자, 중복X, 최대 길이 100)\n",
    "\n",
    "# import random \n",
    "# import string\n",
    "\n",
    "# num_word = random.randint(1,101)\n",
    "# len_word = random.randint(1,101)"
   ]
  },
  {
   "cell_type": "code",
   "execution_count": 109,
   "id": "3a741f83",
   "metadata": {},
   "outputs": [],
   "source": [
    "# print(num_word)\n",
    "\n",
    "# for i in range(num_word):\n",
    "#     print(string.ascii_lowercase)"
   ]
  },
  {
   "cell_type": "code",
   "execution_count": 470,
   "id": "200f3d39",
   "metadata": {},
   "outputs": [
    {
     "name": "stdout",
     "output_type": "stream",
     "text": [
      "2\n",
      "0\n"
     ]
    }
   ],
   "source": [
    "word_list = ['yzyzy','zyzyz']\n",
    "cnt = len(word_list)\n",
    "# 전체 갯수에서 그룹 단어 빼는 방식\n",
    "\n",
    "print (cnt)\n",
    "\n",
    "for i in range(cnt):\n",
    "    for j in range(1,len(word_list[i])):\n",
    "        if (word_list[i][j-1] == word_list[i][j]) and (word_list[i][j-1] not in word_list[i][j+1:]):\n",
    "            cnt += 0\n",
    "            \n",
    "        elif (word_list[i][j-1] != word_list[i][j]) and (word_list[i][j-1] not in word_list[i][j:]):\n",
    "              cnt += 0\n",
    "              \n",
    "        elif word_list[i][j-1] in word_list[i][j+1:]:\n",
    "                cnt += -1\n",
    "                break        \n",
    "            \n",
    "    \n",
    "# 연속 O & 뒤에 없음 : 갯수 안깜\n",
    "# 연속 X & 중복 X : 갯수 안깜\n",
    "\n",
    "# 연속 O & 뒤에서 나옴 : 갯수 깜\n",
    "# 연속 X & 중복 O : 갯수 깜\n",
    "# => 같은 문자가 하나 건너뛰어서 한 문자라도 나오면 그룹 단어 X (갯수 깜)\n",
    "print (cnt)\n"
   ]
  },
  {
   "cell_type": "code",
   "execution_count": null,
   "id": "415c6c0f",
   "metadata": {},
   "outputs": [],
   "source": []
  },
  {
   "cell_type": "markdown",
   "id": "d6229e54",
   "metadata": {},
   "source": [
    "# 9단계 - 3번 (재귀함수가 뭔가요?)"
   ]
  },
  {
   "cell_type": "code",
   "execution_count": 569,
   "id": "b9397ccd",
   "metadata": {},
   "outputs": [
    {
     "name": "stdout",
     "output_type": "stream",
     "text": [
      "어느 한 컴퓨터공학과 학생이 유명한 교수님을 찾아가 물었다.\n",
      "\"재귀함수가 뭔가요?\"\n",
      "\"잘 들어보게. 옛날옛날 한 산 꼭대기에 이세상 모든 지식을 통달한 선인이 있었어. 마을 사람들은 모두 그 선인에게 수많은 질문을 했고, 모두 지혜롭게 대답해 주었지. 그의 답은 대부분 옳았다고 하네. 그런데 어느 날, 그 선인에게 한 선비가 찾아와서 물었어.\"\n"
     ]
    }
   ],
   "source": [
    "n = 5\n",
    "\n",
    "print ('어느 한 컴퓨터공학과 학생이 유명한 교수님을 찾아가 물었다.')\n",
    "\n",
    "def recur():\n",
    "    print(\"\\\"재귀함수가 뭔가요?\\\"\"'\\n'\n",
    "          \"\\\"잘 들어보게. 옛날옛날 한 산 꼭대기에 이세상 모든 지식을 통달한 선인이 있었어. \"\n",
    "          \"마을 사람들은 모두 그 선인에게 수많은 질문을 했고, 모두 지혜롭게 대답해 주었지. \"\n",
    "          \"그의 답은 대부분 옳았다고 하네. 그런데 어느 날, 그 선인에게 한 선비가 찾아와서 물었어.\\\"\")\n",
    "\n",
    "\n",
    "recur()"
   ]
  },
  {
   "cell_type": "code",
   "execution_count": null,
   "id": "81c01c37",
   "metadata": {},
   "outputs": [],
   "source": []
  },
  {
   "cell_type": "markdown",
   "id": "72783a0d",
   "metadata": {},
   "source": [
    "# 9단계 - 4번 (별 찍기-10)"
   ]
  },
  {
   "cell_type": "code",
   "execution_count": null,
   "id": "666f6e0f",
   "metadata": {},
   "outputs": [],
   "source": []
  },
  {
   "cell_type": "code",
   "execution_count": null,
   "id": "3246c026",
   "metadata": {},
   "outputs": [],
   "source": []
  },
  {
   "cell_type": "markdown",
   "id": "938d5fc9",
   "metadata": {},
   "source": [
    "# 9단계 - 5번 (하노이 탑 이동 순서)"
   ]
  },
  {
   "cell_type": "code",
   "execution_count": null,
   "id": "31662f13",
   "metadata": {},
   "outputs": [],
   "source": []
  },
  {
   "cell_type": "code",
   "execution_count": null,
   "id": "901df4c8",
   "metadata": {},
   "outputs": [],
   "source": []
  }
 ],
 "metadata": {
  "kernelspec": {
   "display_name": "Python 3 (ipykernel)",
   "language": "python",
   "name": "python3"
  },
  "language_info": {
   "codemirror_mode": {
    "name": "ipython",
    "version": 3
   },
   "file_extension": ".py",
   "mimetype": "text/x-python",
   "name": "python",
   "nbconvert_exporter": "python",
   "pygments_lexer": "ipython3",
   "version": "3.9.12"
  }
 },
 "nbformat": 4,
 "nbformat_minor": 5
}
